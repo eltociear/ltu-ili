{
 "cells": [
  {
   "cell_type": "code",
   "execution_count": 1,
   "id": "293dd0ca-8fbb-484f-b7d3-7d5077863ef0",
   "metadata": {},
   "outputs": [],
   "source": [
    "import os\n",
    "import numpy as np\n",
    "from ili.dataloaders import StaticNumpyLoader, SummarizerDatasetLoader\n",
    "from ili.inference.runner_sbi import SBIRunner\n",
    "from ili.validation.runner import ValidationRunner\n",
    "import netCDF4 as nc\n",
    "\n",
    "import argparse\n",
    "import torch"
   ]
  },
  {
   "cell_type": "code",
   "execution_count": 2,
   "id": "d03102c8-4136-4fbc-80d4-57866cf1c583",
   "metadata": {},
   "outputs": [
    {
     "name": "stdout",
     "output_type": "stream",
     "text": [
      "Using device: cpu\n"
     ]
    }
   ],
   "source": [
    "# Setting pyTorch device as GPU if available, else CPU\n",
    "deviceStr = \"cuda\" if torch.cuda.is_available() else \"cpu\"\n",
    "device = torch.device(deviceStr)\n",
    "print('Using device:', device)"
   ]
  },
  {
   "cell_type": "code",
   "execution_count": 7,
   "id": "822f006c-362b-48c2-b946-d49ad1bdb574",
   "metadata": {},
   "outputs": [
    {
     "name": "stdout",
     "output_type": "stream",
     "text": [
      "<class 'netCDF4._netCDF4.Group'>\n",
      "group /LH_z0p5:\n",
      "    dimensions(sizes): Seed(2000), multipole(3), k3D(158)\n",
      "    variables(dimensions): float64 k3D(k3D), int64 multipole(multipole), int64 Seed(Seed), float64 PkRSD_ax0(Seed, multipole, k3D)\n",
      "    groups: \n",
      "<class 'netCDF4._netCDF4.Group'>\n",
      "group /fiducial_z0p5:\n",
      "    dimensions(sizes): Seed(500), multipole(3), k3D(158)\n",
      "    variables(dimensions): float64 k3D(k3D), int64 multipole(multipole), int64 Seed(Seed), float64 PkRSD_ax0(Seed, multipole, k3D)\n",
      "    groups: \n"
     ]
    }
   ],
   "source": [
    "#%% Data, parameters and cie\n",
    "dataDir=\"/home/chartier/Documents/LTU_ILI/iliData/quijote_z0p5/Concatenated/\"\n",
    "\n",
    "# axis along which RSD has been computed (careful about confusions)\n",
    "axRSD = 0\n",
    "\n",
    "# Data Files\n",
    "filePk = \"PK_z0p5_RSD%i_kmax1p0.nc\"%axRSD\n",
    "fileBkIso = \"LH_Bk_RSD%i_iso.h5\"%axRSD # iso for isosceles triangles only\n",
    "fileBkEqui = \"LH_Bk_RSD%i_equi.h5\"%axRSD # equi for equilqteral triangles only\n",
    "\n",
    "# Explore .nc format as training\n",
    "pkData = nc.Dataset(dataDir + filePk)\n",
    "\n",
    "# Individual dimensions are accessed via dat1.dimensions['x']\n",
    "for group in pkData.groups.values():\n",
    "    print(group)"
   ]
  },
  {
   "cell_type": "code",
   "execution_count": 12,
   "id": "e7fc748e-d257-41fa-bcc4-5840bd3bcb29",
   "metadata": {},
   "outputs": [
    {
     "name": "stdout",
     "output_type": "stream",
     "text": [
      "<class 'netCDF4._netCDF4.Dimension'> (unlimited): name = 'Seed', size = 2000\n",
      "<class 'netCDF4._netCDF4.Dimension'>: name = 'multipole', size = 3\n",
      "<class 'netCDF4._netCDF4.Dimension'>: name = 'k3D', size = 158\n",
      "(2000, 3, 158)\n"
     ]
    }
   ],
   "source": [
    "# Just playing for netCDF4 related examples\n",
    "pkLH = pkData[\"LH_z0p5\"]\n",
    "pkFid = pkData[\"fiducial_z0p5\"]\n",
    "\n",
    "# if we just just use Dataset.dimensions, just the names are shown without details\n",
    "for dim in pkLH.dimensions.values():\n",
    "  print(dim)\n",
    "\n",
    "k3D = pkLH[\"k3D\"]\n",
    "ells = pkLH[\"multipole\"]\n",
    "seedsLH = pkLH[\"Seed\"]\n",
    "seedsFid = pkFid[\"Seed\"]"
   ]
  },
  {
   "cell_type": "code",
   "execution_count": null,
   "id": "ee527572-9895-4e20-b0fe-7855c92c7f11",
   "metadata": {},
   "outputs": [],
   "source": [
    "# Cosmological parameters, fiducial values for prior\n",
    "paramStr=[r\"$\\Omega_m$\", r\"$\\Omega_b$\",r\"$h$\",r\"$n_s$\",r\"$\\sigma_8$\"]\n",
    "\n",
    "# Means are Quijote fiducial parameters, and for the standard deviations I checked some literature\n",
    "Om0 = 0.3175 ; s_Om0 = 0.0074\n",
    "Ob0 = 0.049 ; s_Ob0 = 0.0003\n",
    "h = 0.6711 ; s_h = 0.0054\n",
    "n_s = 0.9424 ; s_ns = 0.0042\n",
    "sigma_8 = 0.834 ; s_sigma_8 = 0.006\n",
    "#w = -1.0 ; s_w = 0.05\n",
    "\n",
    "# Set fiducial parameters array\n",
    "fiducial = np.array([Om0, Ob0, h, n_s, sigma_8])\n",
    "\n",
    "# For SNPE, we must distinguish the proposal prior with which the simulations were run to the prior in the Bayesian Inference\n",
    "# Below are Quijote Latin Hypercubebounds\n",
    "lowProp = np.array([0.1, 0.03, 0.5, 0.8, 0.6])\n",
    "upProp = np.array([0.5, 0.07, 0.9, 1.2, 1.0])"
   ]
  },
  {
   "cell_type": "code",
   "execution_count": null,
   "id": "7df1e5ce-61f0-4eb1-bcf0-62c56aebeec3",
   "metadata": {},
   "outputs": [],
   "source": [
    "# reload all simulator examples as a dataloader\n",
    "#all_loader = StaticNumpyLoader.from_config(\"configs/data/sample.yaml\")\n",
    "#all_loader = SummarizerDataLoader.from_config(\"configs/data/sample.yaml\")\n",
    "\n",
    "# train a model to infer x -> theta. save it as toy/posterior.pkl\n",
    "runner = SBIRunner.from_config(\"configs/infer/sample_sbi.yaml\")\n",
    "runner(loader=all_loader)"
   ]
  }
 ],
 "metadata": {
  "kernelspec": {
   "display_name": "Python 3 (ipykernel)",
   "language": "python",
   "name": "python3"
  },
  "language_info": {
   "codemirror_mode": {
    "name": "ipython",
    "version": 3
   },
   "file_extension": ".py",
   "mimetype": "text/x-python",
   "name": "python",
   "nbconvert_exporter": "python",
   "pygments_lexer": "ipython3",
   "version": "3.10.6"
  }
 },
 "nbformat": 4,
 "nbformat_minor": 5
}
