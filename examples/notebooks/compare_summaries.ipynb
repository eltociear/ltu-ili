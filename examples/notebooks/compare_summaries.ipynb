{
 "cells": [
  {
   "cell_type": "code",
   "execution_count": 34,
   "metadata": {},
   "outputs": [],
   "source": [
    "import pickle\n",
    "import torch\n",
    "import yaml\n",
    "import numpy as np\n",
    "from pathlib import Path\n",
    "from chainconsumer import ChainConsumer\n",
    "from ili.inference.loaders import SummarizerDatasetLoader\n",
    "from ili.validation.runner import ValidationRunner\n",
    "from ili.validation.metrics import PlotSinglePosterior"
   ]
  },
  {
   "cell_type": "code",
   "execution_count": 35,
   "metadata": {},
   "outputs": [],
   "source": [
    "def create_loader_for_config(config_path):\n",
    "    with open(config_path) as f:\n",
    "        config = yaml.safe_load(f)['loader']['args']\n",
    "    # drop stage\n",
    "    config['stage'] = 'test'\n",
    "    return SummarizerDatasetLoader(\n",
    "        **config\n",
    "    )\n",
    "\n",
    "def get_samples(x, posterior, n_samples = 5000):\n",
    "    posterior_samples = []\n",
    "    for x_ind in x:\n",
    "        posterior_samples.append(\n",
    "            posterior.sample((n_samples,), x=x_ind).numpy()\n",
    "        )\n",
    "    return np.array(posterior_samples)\n",
    "\n",
    "def get_pred_and_true(loader, posterior, n_samples = 5000):\n",
    "    x = torch.Tensor(loader.get_all_data())\n",
    "    true_theta = torch.Tensor(loader.get_all_parameters())\n",
    "    samples = get_samples(x, posterior, n_samples=n_samples)\n",
    "    return samples, true_theta \n"
   ]
  },
  {
   "cell_type": "code",
   "execution_count": 36,
   "metadata": {},
   "outputs": [],
   "source": [
    "labels = [r'$\\Omega_m$', r'$h$', r'$\\sigma_8$']"
   ]
  },
  {
   "cell_type": "code",
   "execution_count": 37,
   "metadata": {},
   "outputs": [],
   "source": [
    "tpcf_loader = create_loader_for_config('../configs/my_quijote_tpcf.yaml')\n",
    "ds_loader = create_loader_for_config('../configs/my_quijote_ds.yaml')"
   ]
  },
  {
   "cell_type": "code",
   "execution_count": 38,
   "metadata": {},
   "outputs": [],
   "source": [
    "path_to_posteriors = Path('/n/holystore01/LABS/itc_lab/Users/ccuestalazaro/ili_summaries/summaries/posteriors/')\n",
    "\n",
    "with open(path_to_posteriors/ f'tpcf/posterior.pkl', 'rb') as f:\n",
    "    tpcf_posterior = pickle.load(f)\n",
    "\n",
    "with open(path_to_posteriors/ f'density_split/posterior.pkl', 'rb') as f:\n",
    "    ds_posterior = pickle.load(f)\n"
   ]
  },
  {
   "cell_type": "code",
   "execution_count": 39,
   "metadata": {},
   "outputs": [
    {
     "data": {
      "application/vnd.jupyter.widget-view+json": {
       "model_id": "c23c6b8114a2444294d3e785ef1de1dd",
       "version_major": 2,
       "version_minor": 0
      },
      "text/plain": [
       "Drawing 5000 posterior samples:   0%|          | 0/5000 [00:00<?, ?it/s]"
      ]
     },
     "metadata": {},
     "output_type": "display_data"
    },
    {
     "data": {
      "application/vnd.jupyter.widget-view+json": {
       "model_id": "91f1019ed8b34f77a09d037884e17077",
       "version_major": 2,
       "version_minor": 0
      },
      "text/plain": [
       "Drawing 5000 posterior samples:   0%|          | 0/5000 [00:00<?, ?it/s]"
      ]
     },
     "metadata": {},
     "output_type": "display_data"
    },
    {
     "data": {
      "application/vnd.jupyter.widget-view+json": {
       "model_id": "2567f9d48e734f45bbcd0d32c9f54ff3",
       "version_major": 2,
       "version_minor": 0
      },
      "text/plain": [
       "Drawing 5000 posterior samples:   0%|          | 0/5000 [00:00<?, ?it/s]"
      ]
     },
     "metadata": {},
     "output_type": "display_data"
    },
    {
     "data": {
      "application/vnd.jupyter.widget-view+json": {
       "model_id": "8232eb0031374b04831b94d0201c68ed",
       "version_major": 2,
       "version_minor": 0
      },
      "text/plain": [
       "Drawing 5000 posterior samples:   0%|          | 0/5000 [00:00<?, ?it/s]"
      ]
     },
     "metadata": {},
     "output_type": "display_data"
    },
    {
     "data": {
      "application/vnd.jupyter.widget-view+json": {
       "model_id": "23a90ea978a844bd8aae45ec137ba015",
       "version_major": 2,
       "version_minor": 0
      },
      "text/plain": [
       "Drawing 5000 posterior samples:   0%|          | 0/5000 [00:00<?, ?it/s]"
      ]
     },
     "metadata": {},
     "output_type": "display_data"
    },
    {
     "data": {
      "application/vnd.jupyter.widget-view+json": {
       "model_id": "16b3bae30b2246cd89c37334ef905b3f",
       "version_major": 2,
       "version_minor": 0
      },
      "text/plain": [
       "Drawing 5000 posterior samples:   0%|          | 0/5000 [00:00<?, ?it/s]"
      ]
     },
     "metadata": {},
     "output_type": "display_data"
    },
    {
     "data": {
      "application/vnd.jupyter.widget-view+json": {
       "model_id": "d39bace7e55243d5bf31e0d1f52ef0d0",
       "version_major": 2,
       "version_minor": 0
      },
      "text/plain": [
       "Drawing 5000 posterior samples:   0%|          | 0/5000 [00:00<?, ?it/s]"
      ]
     },
     "metadata": {},
     "output_type": "display_data"
    },
    {
     "data": {
      "application/vnd.jupyter.widget-view+json": {
       "model_id": "bff2fa3a092d4978a0878e5be7adb03f",
       "version_major": 2,
       "version_minor": 0
      },
      "text/plain": [
       "Drawing 5000 posterior samples:   0%|          | 0/5000 [00:00<?, ?it/s]"
      ]
     },
     "metadata": {},
     "output_type": "display_data"
    },
    {
     "data": {
      "application/vnd.jupyter.widget-view+json": {
       "model_id": "66acf497b11c490d941371e2daabab24",
       "version_major": 2,
       "version_minor": 0
      },
      "text/plain": [
       "Drawing 5000 posterior samples:   0%|          | 0/5000 [00:00<?, ?it/s]"
      ]
     },
     "metadata": {},
     "output_type": "display_data"
    },
    {
     "data": {
      "application/vnd.jupyter.widget-view+json": {
       "model_id": "5d46b3112fbb45c7bb81a1fc0b13ef56",
       "version_major": 2,
       "version_minor": 0
      },
      "text/plain": [
       "Drawing 5000 posterior samples:   0%|          | 0/5000 [00:00<?, ?it/s]"
      ]
     },
     "metadata": {},
     "output_type": "display_data"
    },
    {
     "data": {
      "application/vnd.jupyter.widget-view+json": {
       "model_id": "ed8f087854a94c43ab69c02ad4acc8cf",
       "version_major": 2,
       "version_minor": 0
      },
      "text/plain": [
       "Drawing 5000 posterior samples:   0%|          | 0/5000 [00:00<?, ?it/s]"
      ]
     },
     "metadata": {},
     "output_type": "display_data"
    },
    {
     "data": {
      "application/vnd.jupyter.widget-view+json": {
       "model_id": "c147e08e92044588b70bd9de3dcd599f",
       "version_major": 2,
       "version_minor": 0
      },
      "text/plain": [
       "Drawing 5000 posterior samples:   0%|          | 0/5000 [00:00<?, ?it/s]"
      ]
     },
     "metadata": {},
     "output_type": "display_data"
    },
    {
     "data": {
      "application/vnd.jupyter.widget-view+json": {
       "model_id": "41bdee77bb854254b183f8acd882d3dc",
       "version_major": 2,
       "version_minor": 0
      },
      "text/plain": [
       "Drawing 5000 posterior samples:   0%|          | 0/5000 [00:00<?, ?it/s]"
      ]
     },
     "metadata": {},
     "output_type": "display_data"
    },
    {
     "data": {
      "application/vnd.jupyter.widget-view+json": {
       "model_id": "341d4184de6846f795bcb4e268c64cad",
       "version_major": 2,
       "version_minor": 0
      },
      "text/plain": [
       "Drawing 5000 posterior samples:   0%|          | 0/5000 [00:00<?, ?it/s]"
      ]
     },
     "metadata": {},
     "output_type": "display_data"
    },
    {
     "data": {
      "application/vnd.jupyter.widget-view+json": {
       "model_id": "791250dc0f47421fbcef9bd6528e053e",
       "version_major": 2,
       "version_minor": 0
      },
      "text/plain": [
       "Drawing 5000 posterior samples:   0%|          | 0/5000 [00:00<?, ?it/s]"
      ]
     },
     "metadata": {},
     "output_type": "display_data"
    },
    {
     "data": {
      "application/vnd.jupyter.widget-view+json": {
       "model_id": "75a77f30afed41c5aa0b02a48e657fcd",
       "version_major": 2,
       "version_minor": 0
      },
      "text/plain": [
       "Drawing 5000 posterior samples:   0%|          | 0/5000 [00:00<?, ?it/s]"
      ]
     },
     "metadata": {},
     "output_type": "display_data"
    },
    {
     "data": {
      "application/vnd.jupyter.widget-view+json": {
       "model_id": "fd8c84de11324f32b06d732bf94ec2e7",
       "version_major": 2,
       "version_minor": 0
      },
      "text/plain": [
       "Drawing 5000 posterior samples:   0%|          | 0/5000 [00:00<?, ?it/s]"
      ]
     },
     "metadata": {},
     "output_type": "display_data"
    },
    {
     "data": {
      "application/vnd.jupyter.widget-view+json": {
       "model_id": "19f8a785c397473a8dacd16b803947f3",
       "version_major": 2,
       "version_minor": 0
      },
      "text/plain": [
       "Drawing 5000 posterior samples:   0%|          | 0/5000 [00:00<?, ?it/s]"
      ]
     },
     "metadata": {},
     "output_type": "display_data"
    },
    {
     "data": {
      "application/vnd.jupyter.widget-view+json": {
       "model_id": "173bef434305481b92fc801cb76363ab",
       "version_major": 2,
       "version_minor": 0
      },
      "text/plain": [
       "Drawing 5000 posterior samples:   0%|          | 0/5000 [00:00<?, ?it/s]"
      ]
     },
     "metadata": {},
     "output_type": "display_data"
    },
    {
     "data": {
      "application/vnd.jupyter.widget-view+json": {
       "model_id": "181068f4f9da41a98d2a5fe63e23ab2e",
       "version_major": 2,
       "version_minor": 0
      },
      "text/plain": [
       "Drawing 5000 posterior samples:   0%|          | 0/5000 [00:00<?, ?it/s]"
      ]
     },
     "metadata": {},
     "output_type": "display_data"
    },
    {
     "data": {
      "application/vnd.jupyter.widget-view+json": {
       "model_id": "769c2b66db95436b80454f49a9713633",
       "version_major": 2,
       "version_minor": 0
      },
      "text/plain": [
       "Drawing 5000 posterior samples:   0%|          | 0/5000 [00:00<?, ?it/s]"
      ]
     },
     "metadata": {},
     "output_type": "display_data"
    },
    {
     "data": {
      "application/vnd.jupyter.widget-view+json": {
       "model_id": "75d15493698544ebbdcf2fdbf3d1e9e1",
       "version_major": 2,
       "version_minor": 0
      },
      "text/plain": [
       "Drawing 5000 posterior samples:   0%|          | 0/5000 [00:00<?, ?it/s]"
      ]
     },
     "metadata": {},
     "output_type": "display_data"
    },
    {
     "data": {
      "application/vnd.jupyter.widget-view+json": {
       "model_id": "71bc3c01aa6849ab942660e8959547f3",
       "version_major": 2,
       "version_minor": 0
      },
      "text/plain": [
       "Drawing 5000 posterior samples:   0%|          | 0/5000 [00:00<?, ?it/s]"
      ]
     },
     "metadata": {},
     "output_type": "display_data"
    },
    {
     "data": {
      "application/vnd.jupyter.widget-view+json": {
       "model_id": "e24254c7435c413c850e08fa8b08ee14",
       "version_major": 2,
       "version_minor": 0
      },
      "text/plain": [
       "Drawing 5000 posterior samples:   0%|          | 0/5000 [00:00<?, ?it/s]"
      ]
     },
     "metadata": {},
     "output_type": "display_data"
    },
    {
     "data": {
      "application/vnd.jupyter.widget-view+json": {
       "model_id": "6464244056d84dbca049533a799731ff",
       "version_major": 2,
       "version_minor": 0
      },
      "text/plain": [
       "Drawing 5000 posterior samples:   0%|          | 0/5000 [00:00<?, ?it/s]"
      ]
     },
     "metadata": {},
     "output_type": "display_data"
    },
    {
     "data": {
      "application/vnd.jupyter.widget-view+json": {
       "model_id": "8118964a20424dadb01bee08d912c3d4",
       "version_major": 2,
       "version_minor": 0
      },
      "text/plain": [
       "Drawing 5000 posterior samples:   0%|          | 0/5000 [00:00<?, ?it/s]"
      ]
     },
     "metadata": {},
     "output_type": "display_data"
    },
    {
     "data": {
      "application/vnd.jupyter.widget-view+json": {
       "model_id": "4f6caa45a22e469ea3f2d60965406470",
       "version_major": 2,
       "version_minor": 0
      },
      "text/plain": [
       "Drawing 5000 posterior samples:   0%|          | 0/5000 [00:00<?, ?it/s]"
      ]
     },
     "metadata": {},
     "output_type": "display_data"
    },
    {
     "data": {
      "application/vnd.jupyter.widget-view+json": {
       "model_id": "b8902ce96bff462489bb6a20241e18ae",
       "version_major": 2,
       "version_minor": 0
      },
      "text/plain": [
       "Drawing 5000 posterior samples:   0%|          | 0/5000 [00:00<?, ?it/s]"
      ]
     },
     "metadata": {},
     "output_type": "display_data"
    },
    {
     "data": {
      "application/vnd.jupyter.widget-view+json": {
       "model_id": "961fcc5fb3984bf59762f27f720af83a",
       "version_major": 2,
       "version_minor": 0
      },
      "text/plain": [
       "Drawing 5000 posterior samples:   0%|          | 0/5000 [00:00<?, ?it/s]"
      ]
     },
     "metadata": {},
     "output_type": "display_data"
    },
    {
     "data": {
      "application/vnd.jupyter.widget-view+json": {
       "model_id": "edd5c4539f4a4630a6fb9c92b42a8713",
       "version_major": 2,
       "version_minor": 0
      },
      "text/plain": [
       "Drawing 5000 posterior samples:   0%|          | 0/5000 [00:00<?, ?it/s]"
      ]
     },
     "metadata": {},
     "output_type": "display_data"
    },
    {
     "data": {
      "application/vnd.jupyter.widget-view+json": {
       "model_id": "e09d9f1933094dd99a7963690aebf0c6",
       "version_major": 2,
       "version_minor": 0
      },
      "text/plain": [
       "Drawing 5000 posterior samples:   0%|          | 0/5000 [00:00<?, ?it/s]"
      ]
     },
     "metadata": {},
     "output_type": "display_data"
    },
    {
     "data": {
      "application/vnd.jupyter.widget-view+json": {
       "model_id": "5802e72686a640b38e23eb600f987d41",
       "version_major": 2,
       "version_minor": 0
      },
      "text/plain": [
       "Drawing 5000 posterior samples:   0%|          | 0/5000 [00:00<?, ?it/s]"
      ]
     },
     "metadata": {},
     "output_type": "display_data"
    },
    {
     "data": {
      "application/vnd.jupyter.widget-view+json": {
       "model_id": "fd2a816608ea4be790835b9cf83082b9",
       "version_major": 2,
       "version_minor": 0
      },
      "text/plain": [
       "Drawing 5000 posterior samples:   0%|          | 0/5000 [00:00<?, ?it/s]"
      ]
     },
     "metadata": {},
     "output_type": "display_data"
    },
    {
     "data": {
      "application/vnd.jupyter.widget-view+json": {
       "model_id": "0bcf59ba7592460896ec2c656e0a7752",
       "version_major": 2,
       "version_minor": 0
      },
      "text/plain": [
       "Drawing 5000 posterior samples:   0%|          | 0/5000 [00:00<?, ?it/s]"
      ]
     },
     "metadata": {},
     "output_type": "display_data"
    },
    {
     "data": {
      "application/vnd.jupyter.widget-view+json": {
       "model_id": "07993b71090d4a4a9ddefac139755a49",
       "version_major": 2,
       "version_minor": 0
      },
      "text/plain": [
       "Drawing 5000 posterior samples:   0%|          | 0/5000 [00:00<?, ?it/s]"
      ]
     },
     "metadata": {},
     "output_type": "display_data"
    },
    {
     "data": {
      "application/vnd.jupyter.widget-view+json": {
       "model_id": "455639725040405991db53a3c44e510d",
       "version_major": 2,
       "version_minor": 0
      },
      "text/plain": [
       "Drawing 5000 posterior samples:   0%|          | 0/5000 [00:00<?, ?it/s]"
      ]
     },
     "metadata": {},
     "output_type": "display_data"
    },
    {
     "data": {
      "application/vnd.jupyter.widget-view+json": {
       "model_id": "b9dfba9ed01646d1b6ad68328937efaf",
       "version_major": 2,
       "version_minor": 0
      },
      "text/plain": [
       "Drawing 5000 posterior samples:   0%|          | 0/5000 [00:00<?, ?it/s]"
      ]
     },
     "metadata": {},
     "output_type": "display_data"
    },
    {
     "data": {
      "application/vnd.jupyter.widget-view+json": {
       "model_id": "e7463a59353940449a195503f1b4e99a",
       "version_major": 2,
       "version_minor": 0
      },
      "text/plain": [
       "Drawing 5000 posterior samples:   0%|          | 0/5000 [00:00<?, ?it/s]"
      ]
     },
     "metadata": {},
     "output_type": "display_data"
    },
    {
     "data": {
      "application/vnd.jupyter.widget-view+json": {
       "model_id": "0978de1030f94992b9f5c167ec067b30",
       "version_major": 2,
       "version_minor": 0
      },
      "text/plain": [
       "Drawing 5000 posterior samples:   0%|          | 0/5000 [00:00<?, ?it/s]"
      ]
     },
     "metadata": {},
     "output_type": "display_data"
    },
    {
     "data": {
      "application/vnd.jupyter.widget-view+json": {
       "model_id": "0667b9cf0d1a4e0bad376ea0936fcd30",
       "version_major": 2,
       "version_minor": 0
      },
      "text/plain": [
       "Drawing 5000 posterior samples:   0%|          | 0/5000 [00:00<?, ?it/s]"
      ]
     },
     "metadata": {},
     "output_type": "display_data"
    },
    {
     "data": {
      "application/vnd.jupyter.widget-view+json": {
       "model_id": "0d69410b4e874d5aad11d512fde529cc",
       "version_major": 2,
       "version_minor": 0
      },
      "text/plain": [
       "Drawing 5000 posterior samples:   0%|          | 0/5000 [00:00<?, ?it/s]"
      ]
     },
     "metadata": {},
     "output_type": "display_data"
    },
    {
     "data": {
      "application/vnd.jupyter.widget-view+json": {
       "model_id": "ee9291f25d564a0b8291de661e7b0b8a",
       "version_major": 2,
       "version_minor": 0
      },
      "text/plain": [
       "Drawing 5000 posterior samples:   0%|          | 0/5000 [00:00<?, ?it/s]"
      ]
     },
     "metadata": {},
     "output_type": "display_data"
    },
    {
     "data": {
      "application/vnd.jupyter.widget-view+json": {
       "model_id": "d75f03bce51947f792e8396dc2196ff2",
       "version_major": 2,
       "version_minor": 0
      },
      "text/plain": [
       "Drawing 5000 posterior samples:   0%|          | 0/5000 [00:00<?, ?it/s]"
      ]
     },
     "metadata": {},
     "output_type": "display_data"
    },
    {
     "data": {
      "application/vnd.jupyter.widget-view+json": {
       "model_id": "b913a78a57f0464389d6733db1f1ccce",
       "version_major": 2,
       "version_minor": 0
      },
      "text/plain": [
       "Drawing 5000 posterior samples:   0%|          | 0/5000 [00:00<?, ?it/s]"
      ]
     },
     "metadata": {},
     "output_type": "display_data"
    },
    {
     "data": {
      "application/vnd.jupyter.widget-view+json": {
       "model_id": "6ab5a3fa1a55410ba60579e456638be4",
       "version_major": 2,
       "version_minor": 0
      },
      "text/plain": [
       "Drawing 5000 posterior samples:   0%|          | 0/5000 [00:00<?, ?it/s]"
      ]
     },
     "metadata": {},
     "output_type": "display_data"
    },
    {
     "data": {
      "application/vnd.jupyter.widget-view+json": {
       "model_id": "f84f1b8e1a8647a7a3b405aa83c96006",
       "version_major": 2,
       "version_minor": 0
      },
      "text/plain": [
       "Drawing 5000 posterior samples:   0%|          | 0/5000 [00:00<?, ?it/s]"
      ]
     },
     "metadata": {},
     "output_type": "display_data"
    },
    {
     "data": {
      "application/vnd.jupyter.widget-view+json": {
       "model_id": "3c568ea348b549b19710052f1b9c613a",
       "version_major": 2,
       "version_minor": 0
      },
      "text/plain": [
       "Drawing 5000 posterior samples:   0%|          | 0/5000 [00:00<?, ?it/s]"
      ]
     },
     "metadata": {},
     "output_type": "display_data"
    },
    {
     "data": {
      "application/vnd.jupyter.widget-view+json": {
       "model_id": "a305d307b02f45c59619be5e67a882a6",
       "version_major": 2,
       "version_minor": 0
      },
      "text/plain": [
       "Drawing 5000 posterior samples:   0%|          | 0/5000 [00:00<?, ?it/s]"
      ]
     },
     "metadata": {},
     "output_type": "display_data"
    },
    {
     "data": {
      "application/vnd.jupyter.widget-view+json": {
       "model_id": "bf1c30df2d6d460594b4fe5068594f24",
       "version_major": 2,
       "version_minor": 0
      },
      "text/plain": [
       "Drawing 5000 posterior samples:   0%|          | 0/5000 [00:00<?, ?it/s]"
      ]
     },
     "metadata": {},
     "output_type": "display_data"
    },
    {
     "data": {
      "application/vnd.jupyter.widget-view+json": {
       "model_id": "b42ca4f0fb6d4b34914cb09c2005e0dd",
       "version_major": 2,
       "version_minor": 0
      },
      "text/plain": [
       "Drawing 5000 posterior samples:   0%|          | 0/5000 [00:00<?, ?it/s]"
      ]
     },
     "metadata": {},
     "output_type": "display_data"
    },
    {
     "data": {
      "application/vnd.jupyter.widget-view+json": {
       "model_id": "e7d6c94b0f7f4d94829e0b2e87aee5d5",
       "version_major": 2,
       "version_minor": 0
      },
      "text/plain": [
       "Drawing 5000 posterior samples:   0%|          | 0/5000 [00:00<?, ?it/s]"
      ]
     },
     "metadata": {},
     "output_type": "display_data"
    },
    {
     "data": {
      "application/vnd.jupyter.widget-view+json": {
       "model_id": "6357ada7cf4846f5910f0e5b3dd5c1fa",
       "version_major": 2,
       "version_minor": 0
      },
      "text/plain": [
       "Drawing 5000 posterior samples:   0%|          | 0/5000 [00:00<?, ?it/s]"
      ]
     },
     "metadata": {},
     "output_type": "display_data"
    },
    {
     "data": {
      "application/vnd.jupyter.widget-view+json": {
       "model_id": "aeb52a1f1c28406baad08882152505d8",
       "version_major": 2,
       "version_minor": 0
      },
      "text/plain": [
       "Drawing 5000 posterior samples:   0%|          | 0/5000 [00:00<?, ?it/s]"
      ]
     },
     "metadata": {},
     "output_type": "display_data"
    },
    {
     "data": {
      "application/vnd.jupyter.widget-view+json": {
       "model_id": "12aa971244704964a61006dc09ccf02d",
       "version_major": 2,
       "version_minor": 0
      },
      "text/plain": [
       "Drawing 5000 posterior samples:   0%|          | 0/5000 [00:00<?, ?it/s]"
      ]
     },
     "metadata": {},
     "output_type": "display_data"
    },
    {
     "data": {
      "application/vnd.jupyter.widget-view+json": {
       "model_id": "ec7de0de8c70423bac9e5837617aaabe",
       "version_major": 2,
       "version_minor": 0
      },
      "text/plain": [
       "Drawing 5000 posterior samples:   0%|          | 0/5000 [00:00<?, ?it/s]"
      ]
     },
     "metadata": {},
     "output_type": "display_data"
    },
    {
     "data": {
      "application/vnd.jupyter.widget-view+json": {
       "model_id": "eacd544ce4184c85bbe83c1699bba308",
       "version_major": 2,
       "version_minor": 0
      },
      "text/plain": [
       "Drawing 5000 posterior samples:   0%|          | 0/5000 [00:00<?, ?it/s]"
      ]
     },
     "metadata": {},
     "output_type": "display_data"
    },
    {
     "data": {
      "application/vnd.jupyter.widget-view+json": {
       "model_id": "bb6d443d5ecb401c9b1d7dcdef412134",
       "version_major": 2,
       "version_minor": 0
      },
      "text/plain": [
       "Drawing 5000 posterior samples:   0%|          | 0/5000 [00:00<?, ?it/s]"
      ]
     },
     "metadata": {},
     "output_type": "display_data"
    },
    {
     "data": {
      "application/vnd.jupyter.widget-view+json": {
       "model_id": "20e91bd27bdf40438f8e30c68bf74750",
       "version_major": 2,
       "version_minor": 0
      },
      "text/plain": [
       "Drawing 5000 posterior samples:   0%|          | 0/5000 [00:00<?, ?it/s]"
      ]
     },
     "metadata": {},
     "output_type": "display_data"
    },
    {
     "data": {
      "application/vnd.jupyter.widget-view+json": {
       "model_id": "2043f9406c8b4e2e871547da00896889",
       "version_major": 2,
       "version_minor": 0
      },
      "text/plain": [
       "Drawing 5000 posterior samples:   0%|          | 0/5000 [00:00<?, ?it/s]"
      ]
     },
     "metadata": {},
     "output_type": "display_data"
    },
    {
     "data": {
      "application/vnd.jupyter.widget-view+json": {
       "model_id": "8dc59102480740e1885cf760e3724fd0",
       "version_major": 2,
       "version_minor": 0
      },
      "text/plain": [
       "Drawing 5000 posterior samples:   0%|          | 0/5000 [00:00<?, ?it/s]"
      ]
     },
     "metadata": {},
     "output_type": "display_data"
    },
    {
     "data": {
      "application/vnd.jupyter.widget-view+json": {
       "model_id": "c0284a31c4a0413a8ef5fe274ff63553",
       "version_major": 2,
       "version_minor": 0
      },
      "text/plain": [
       "Drawing 5000 posterior samples:   0%|          | 0/5000 [00:00<?, ?it/s]"
      ]
     },
     "metadata": {},
     "output_type": "display_data"
    },
    {
     "data": {
      "application/vnd.jupyter.widget-view+json": {
       "model_id": "6995d2ff70154625bc33d4508360c952",
       "version_major": 2,
       "version_minor": 0
      },
      "text/plain": [
       "Drawing 5000 posterior samples:   0%|          | 0/5000 [00:00<?, ?it/s]"
      ]
     },
     "metadata": {},
     "output_type": "display_data"
    },
    {
     "data": {
      "application/vnd.jupyter.widget-view+json": {
       "model_id": "1dede2f7f21f4eedb0242373ace459e3",
       "version_major": 2,
       "version_minor": 0
      },
      "text/plain": [
       "Drawing 5000 posterior samples:   0%|          | 0/5000 [00:00<?, ?it/s]"
      ]
     },
     "metadata": {},
     "output_type": "display_data"
    },
    {
     "data": {
      "application/vnd.jupyter.widget-view+json": {
       "model_id": "0234c87f762f4fe4be6f63690c639984",
       "version_major": 2,
       "version_minor": 0
      },
      "text/plain": [
       "Drawing 5000 posterior samples:   0%|          | 0/5000 [00:00<?, ?it/s]"
      ]
     },
     "metadata": {},
     "output_type": "display_data"
    },
    {
     "data": {
      "application/vnd.jupyter.widget-view+json": {
       "model_id": "104067f6c18b41a88bf06a86212509ed",
       "version_major": 2,
       "version_minor": 0
      },
      "text/plain": [
       "Drawing 5000 posterior samples:   0%|          | 0/5000 [00:00<?, ?it/s]"
      ]
     },
     "metadata": {},
     "output_type": "display_data"
    },
    {
     "data": {
      "application/vnd.jupyter.widget-view+json": {
       "model_id": "6903a6fbe1af43429027459b5c3c0892",
       "version_major": 2,
       "version_minor": 0
      },
      "text/plain": [
       "Drawing 5000 posterior samples:   0%|          | 0/5000 [00:00<?, ?it/s]"
      ]
     },
     "metadata": {},
     "output_type": "display_data"
    },
    {
     "data": {
      "application/vnd.jupyter.widget-view+json": {
       "model_id": "1a94a1b5d0014e54808fcceca88b8cd2",
       "version_major": 2,
       "version_minor": 0
      },
      "text/plain": [
       "Drawing 5000 posterior samples:   0%|          | 0/5000 [00:00<?, ?it/s]"
      ]
     },
     "metadata": {},
     "output_type": "display_data"
    },
    {
     "data": {
      "application/vnd.jupyter.widget-view+json": {
       "model_id": "f1e9936867524087b8a437b4eb72c263",
       "version_major": 2,
       "version_minor": 0
      },
      "text/plain": [
       "Drawing 5000 posterior samples:   0%|          | 0/5000 [00:00<?, ?it/s]"
      ]
     },
     "metadata": {},
     "output_type": "display_data"
    },
    {
     "data": {
      "application/vnd.jupyter.widget-view+json": {
       "model_id": "09c3bd19b0384f5a9c994b9bb9d78fc3",
       "version_major": 2,
       "version_minor": 0
      },
      "text/plain": [
       "Drawing 5000 posterior samples:   0%|          | 0/5000 [00:00<?, ?it/s]"
      ]
     },
     "metadata": {},
     "output_type": "display_data"
    },
    {
     "data": {
      "application/vnd.jupyter.widget-view+json": {
       "model_id": "5ed7f2962202441abb4fa9dde6a1168b",
       "version_major": 2,
       "version_minor": 0
      },
      "text/plain": [
       "Drawing 5000 posterior samples:   0%|          | 0/5000 [00:00<?, ?it/s]"
      ]
     },
     "metadata": {},
     "output_type": "display_data"
    },
    {
     "data": {
      "application/vnd.jupyter.widget-view+json": {
       "model_id": "932d160d96a1491e91624b8cd0852216",
       "version_major": 2,
       "version_minor": 0
      },
      "text/plain": [
       "Drawing 5000 posterior samples:   0%|          | 0/5000 [00:00<?, ?it/s]"
      ]
     },
     "metadata": {},
     "output_type": "display_data"
    },
    {
     "data": {
      "application/vnd.jupyter.widget-view+json": {
       "model_id": "ed4201f3f3714bc1b975978dc5c2582e",
       "version_major": 2,
       "version_minor": 0
      },
      "text/plain": [
       "Drawing 5000 posterior samples:   0%|          | 0/5000 [00:00<?, ?it/s]"
      ]
     },
     "metadata": {},
     "output_type": "display_data"
    },
    {
     "data": {
      "application/vnd.jupyter.widget-view+json": {
       "model_id": "f6a14c5440bf416b93c7917a1c9e3f9d",
       "version_major": 2,
       "version_minor": 0
      },
      "text/plain": [
       "Drawing 5000 posterior samples:   0%|          | 0/5000 [00:00<?, ?it/s]"
      ]
     },
     "metadata": {},
     "output_type": "display_data"
    },
    {
     "data": {
      "application/vnd.jupyter.widget-view+json": {
       "model_id": "937365876aad41dd8b9a71e72a124b2a",
       "version_major": 2,
       "version_minor": 0
      },
      "text/plain": [
       "Drawing 5000 posterior samples:   0%|          | 0/5000 [00:00<?, ?it/s]"
      ]
     },
     "metadata": {},
     "output_type": "display_data"
    },
    {
     "data": {
      "application/vnd.jupyter.widget-view+json": {
       "model_id": "7cb7bf007b4540bd9aba83332b14263d",
       "version_major": 2,
       "version_minor": 0
      },
      "text/plain": [
       "Drawing 5000 posterior samples:   0%|          | 0/5000 [00:00<?, ?it/s]"
      ]
     },
     "metadata": {},
     "output_type": "display_data"
    },
    {
     "data": {
      "application/vnd.jupyter.widget-view+json": {
       "model_id": "d84bb54e8e834d8cbc2a7d4f202d7b7b",
       "version_major": 2,
       "version_minor": 0
      },
      "text/plain": [
       "Drawing 5000 posterior samples:   0%|          | 0/5000 [00:00<?, ?it/s]"
      ]
     },
     "metadata": {},
     "output_type": "display_data"
    },
    {
     "data": {
      "application/vnd.jupyter.widget-view+json": {
       "model_id": "6fdaa964c588459a8f3ac3cf6c62c6e8",
       "version_major": 2,
       "version_minor": 0
      },
      "text/plain": [
       "Drawing 5000 posterior samples:   0%|          | 0/5000 [00:00<?, ?it/s]"
      ]
     },
     "metadata": {},
     "output_type": "display_data"
    },
    {
     "data": {
      "application/vnd.jupyter.widget-view+json": {
       "model_id": "a567d52763724c2bae7d3a344f755ac8",
       "version_major": 2,
       "version_minor": 0
      },
      "text/plain": [
       "Drawing 5000 posterior samples:   0%|          | 0/5000 [00:00<?, ?it/s]"
      ]
     },
     "metadata": {},
     "output_type": "display_data"
    },
    {
     "data": {
      "application/vnd.jupyter.widget-view+json": {
       "model_id": "b246296729f04bf283f752b284e42688",
       "version_major": 2,
       "version_minor": 0
      },
      "text/plain": [
       "Drawing 5000 posterior samples:   0%|          | 0/5000 [00:00<?, ?it/s]"
      ]
     },
     "metadata": {},
     "output_type": "display_data"
    },
    {
     "data": {
      "application/vnd.jupyter.widget-view+json": {
       "model_id": "c27ce7fa13c94611a911a31169687e00",
       "version_major": 2,
       "version_minor": 0
      },
      "text/plain": [
       "Drawing 5000 posterior samples:   0%|          | 0/5000 [00:00<?, ?it/s]"
      ]
     },
     "metadata": {},
     "output_type": "display_data"
    },
    {
     "data": {
      "application/vnd.jupyter.widget-view+json": {
       "model_id": "087a17aadace488dad1fdc0d370aa06d",
       "version_major": 2,
       "version_minor": 0
      },
      "text/plain": [
       "Drawing 5000 posterior samples:   0%|          | 0/5000 [00:00<?, ?it/s]"
      ]
     },
     "metadata": {},
     "output_type": "display_data"
    },
    {
     "data": {
      "application/vnd.jupyter.widget-view+json": {
       "model_id": "2dcf41c1b0c54f79b313059665089c95",
       "version_major": 2,
       "version_minor": 0
      },
      "text/plain": [
       "Drawing 5000 posterior samples:   0%|          | 0/5000 [00:00<?, ?it/s]"
      ]
     },
     "metadata": {},
     "output_type": "display_data"
    },
    {
     "data": {
      "application/vnd.jupyter.widget-view+json": {
       "model_id": "09865711ba714b12847a1512ccb85a12",
       "version_major": 2,
       "version_minor": 0
      },
      "text/plain": [
       "Drawing 5000 posterior samples:   0%|          | 0/5000 [00:00<?, ?it/s]"
      ]
     },
     "metadata": {},
     "output_type": "display_data"
    },
    {
     "data": {
      "application/vnd.jupyter.widget-view+json": {
       "model_id": "b7a982f51d184dba838cc50927be3e31",
       "version_major": 2,
       "version_minor": 0
      },
      "text/plain": [
       "Drawing 5000 posterior samples:   0%|          | 0/5000 [00:00<?, ?it/s]"
      ]
     },
     "metadata": {},
     "output_type": "display_data"
    },
    {
     "data": {
      "application/vnd.jupyter.widget-view+json": {
       "model_id": "7f544fee25164a64a6710e840ef272b2",
       "version_major": 2,
       "version_minor": 0
      },
      "text/plain": [
       "Drawing 5000 posterior samples:   0%|          | 0/5000 [00:00<?, ?it/s]"
      ]
     },
     "metadata": {},
     "output_type": "display_data"
    },
    {
     "data": {
      "application/vnd.jupyter.widget-view+json": {
       "model_id": "5f416f18b4c74eef932fee7f7b20852c",
       "version_major": 2,
       "version_minor": 0
      },
      "text/plain": [
       "Drawing 5000 posterior samples:   0%|          | 0/5000 [00:00<?, ?it/s]"
      ]
     },
     "metadata": {},
     "output_type": "display_data"
    },
    {
     "data": {
      "application/vnd.jupyter.widget-view+json": {
       "model_id": "f577b5534c5e4b488a1d0cfbc98a7ebd",
       "version_major": 2,
       "version_minor": 0
      },
      "text/plain": [
       "Drawing 5000 posterior samples:   0%|          | 0/5000 [00:00<?, ?it/s]"
      ]
     },
     "metadata": {},
     "output_type": "display_data"
    },
    {
     "data": {
      "application/vnd.jupyter.widget-view+json": {
       "model_id": "6ac1950b633b420f841a200aaf4ec549",
       "version_major": 2,
       "version_minor": 0
      },
      "text/plain": [
       "Drawing 5000 posterior samples:   0%|          | 0/5000 [00:00<?, ?it/s]"
      ]
     },
     "metadata": {},
     "output_type": "display_data"
    },
    {
     "data": {
      "application/vnd.jupyter.widget-view+json": {
       "model_id": "2dbb02eb76284bbf949fb740a33ce40b",
       "version_major": 2,
       "version_minor": 0
      },
      "text/plain": [
       "Drawing 5000 posterior samples:   0%|          | 0/5000 [00:00<?, ?it/s]"
      ]
     },
     "metadata": {},
     "output_type": "display_data"
    },
    {
     "data": {
      "application/vnd.jupyter.widget-view+json": {
       "model_id": "a823714c9a8b41f9b2546da3fa16a1d4",
       "version_major": 2,
       "version_minor": 0
      },
      "text/plain": [
       "Drawing 5000 posterior samples:   0%|          | 0/5000 [00:00<?, ?it/s]"
      ]
     },
     "metadata": {},
     "output_type": "display_data"
    },
    {
     "data": {
      "application/vnd.jupyter.widget-view+json": {
       "model_id": "82d8b4b38db4403db8dd5be8cecb90d6",
       "version_major": 2,
       "version_minor": 0
      },
      "text/plain": [
       "Drawing 5000 posterior samples:   0%|          | 0/5000 [00:00<?, ?it/s]"
      ]
     },
     "metadata": {},
     "output_type": "display_data"
    },
    {
     "data": {
      "application/vnd.jupyter.widget-view+json": {
       "model_id": "469818978305417d81b96ea730394520",
       "version_major": 2,
       "version_minor": 0
      },
      "text/plain": [
       "Drawing 5000 posterior samples:   0%|          | 0/5000 [00:00<?, ?it/s]"
      ]
     },
     "metadata": {},
     "output_type": "display_data"
    },
    {
     "data": {
      "application/vnd.jupyter.widget-view+json": {
       "model_id": "10bc38bd7855490eaccb65fd9aaeca8d",
       "version_major": 2,
       "version_minor": 0
      },
      "text/plain": [
       "Drawing 5000 posterior samples:   0%|          | 0/5000 [00:00<?, ?it/s]"
      ]
     },
     "metadata": {},
     "output_type": "display_data"
    },
    {
     "data": {
      "application/vnd.jupyter.widget-view+json": {
       "model_id": "1cfbfc5224d44b29b651189a9bc10a7d",
       "version_major": 2,
       "version_minor": 0
      },
      "text/plain": [
       "Drawing 5000 posterior samples:   0%|          | 0/5000 [00:00<?, ?it/s]"
      ]
     },
     "metadata": {},
     "output_type": "display_data"
    },
    {
     "data": {
      "application/vnd.jupyter.widget-view+json": {
       "model_id": "e3d845d0ef3d46699f808f597fe337dc",
       "version_major": 2,
       "version_minor": 0
      },
      "text/plain": [
       "Drawing 5000 posterior samples:   0%|          | 0/5000 [00:00<?, ?it/s]"
      ]
     },
     "metadata": {},
     "output_type": "display_data"
    },
    {
     "data": {
      "application/vnd.jupyter.widget-view+json": {
       "model_id": "5c5aefa9422543e795063a45dcccbd7f",
       "version_major": 2,
       "version_minor": 0
      },
      "text/plain": [
       "Drawing 5000 posterior samples:   0%|          | 0/5000 [00:00<?, ?it/s]"
      ]
     },
     "metadata": {},
     "output_type": "display_data"
    },
    {
     "data": {
      "application/vnd.jupyter.widget-view+json": {
       "model_id": "28df45e0de9447b59d77322021a31298",
       "version_major": 2,
       "version_minor": 0
      },
      "text/plain": [
       "Drawing 5000 posterior samples:   0%|          | 0/5000 [00:00<?, ?it/s]"
      ]
     },
     "metadata": {},
     "output_type": "display_data"
    },
    {
     "data": {
      "application/vnd.jupyter.widget-view+json": {
       "model_id": "d2787bf210384d48a4ae4b703ad03abe",
       "version_major": 2,
       "version_minor": 0
      },
      "text/plain": [
       "Drawing 5000 posterior samples:   0%|          | 0/5000 [00:00<?, ?it/s]"
      ]
     },
     "metadata": {},
     "output_type": "display_data"
    },
    {
     "data": {
      "application/vnd.jupyter.widget-view+json": {
       "model_id": "8d54593986b44ce7aefccc8afacb88d6",
       "version_major": 2,
       "version_minor": 0
      },
      "text/plain": [
       "Drawing 5000 posterior samples:   0%|          | 0/5000 [00:00<?, ?it/s]"
      ]
     },
     "metadata": {},
     "output_type": "display_data"
    },
    {
     "data": {
      "application/vnd.jupyter.widget-view+json": {
       "model_id": "3eff097a50ee426fb78cccee7edf9e57",
       "version_major": 2,
       "version_minor": 0
      },
      "text/plain": [
       "Drawing 5000 posterior samples:   0%|          | 0/5000 [00:00<?, ?it/s]"
      ]
     },
     "metadata": {},
     "output_type": "display_data"
    },
    {
     "data": {
      "application/vnd.jupyter.widget-view+json": {
       "model_id": "78d3a26b0004439cb3eab6574cfdbc60",
       "version_major": 2,
       "version_minor": 0
      },
      "text/plain": [
       "Drawing 5000 posterior samples:   0%|          | 0/5000 [00:00<?, ?it/s]"
      ]
     },
     "metadata": {},
     "output_type": "display_data"
    },
    {
     "data": {
      "application/vnd.jupyter.widget-view+json": {
       "model_id": "8dd2a313203b47c3b4db1073f542fe99",
       "version_major": 2,
       "version_minor": 0
      },
      "text/plain": [
       "Drawing 5000 posterior samples:   0%|          | 0/5000 [00:00<?, ?it/s]"
      ]
     },
     "metadata": {},
     "output_type": "display_data"
    },
    {
     "data": {
      "application/vnd.jupyter.widget-view+json": {
       "model_id": "372bdc01997444c5846b3d2ea4ad1b04",
       "version_major": 2,
       "version_minor": 0
      },
      "text/plain": [
       "Drawing 5000 posterior samples:   0%|          | 0/5000 [00:00<?, ?it/s]"
      ]
     },
     "metadata": {},
     "output_type": "display_data"
    },
    {
     "data": {
      "application/vnd.jupyter.widget-view+json": {
       "model_id": "0bfd8f986df046dcb4d35d7dd920b8cd",
       "version_major": 2,
       "version_minor": 0
      },
      "text/plain": [
       "Drawing 5000 posterior samples:   0%|          | 0/5000 [00:00<?, ?it/s]"
      ]
     },
     "metadata": {},
     "output_type": "display_data"
    },
    {
     "data": {
      "application/vnd.jupyter.widget-view+json": {
       "model_id": "2e0e2bc8bc6f43309a240b49d0a8449c",
       "version_major": 2,
       "version_minor": 0
      },
      "text/plain": [
       "Drawing 5000 posterior samples:   0%|          | 0/5000 [00:00<?, ?it/s]"
      ]
     },
     "metadata": {},
     "output_type": "display_data"
    },
    {
     "data": {
      "application/vnd.jupyter.widget-view+json": {
       "model_id": "8bd3d8e7fafd4723b51e498a20c3f43b",
       "version_major": 2,
       "version_minor": 0
      },
      "text/plain": [
       "Drawing 5000 posterior samples:   0%|          | 0/5000 [00:00<?, ?it/s]"
      ]
     },
     "metadata": {},
     "output_type": "display_data"
    },
    {
     "data": {
      "application/vnd.jupyter.widget-view+json": {
       "model_id": "3aeffaac773441498824222f0efbf132",
       "version_major": 2,
       "version_minor": 0
      },
      "text/plain": [
       "Drawing 5000 posterior samples:   0%|          | 0/5000 [00:00<?, ?it/s]"
      ]
     },
     "metadata": {},
     "output_type": "display_data"
    },
    {
     "data": {
      "application/vnd.jupyter.widget-view+json": {
       "model_id": "cb7e98db1c6d41abaf14d2c31f5da911",
       "version_major": 2,
       "version_minor": 0
      },
      "text/plain": [
       "Drawing 5000 posterior samples:   0%|          | 0/5000 [00:00<?, ?it/s]"
      ]
     },
     "metadata": {},
     "output_type": "display_data"
    },
    {
     "data": {
      "application/vnd.jupyter.widget-view+json": {
       "model_id": "58c6378955534bcdbf26402c0af39235",
       "version_major": 2,
       "version_minor": 0
      },
      "text/plain": [
       "Drawing 5000 posterior samples:   0%|          | 0/5000 [00:00<?, ?it/s]"
      ]
     },
     "metadata": {},
     "output_type": "display_data"
    },
    {
     "data": {
      "application/vnd.jupyter.widget-view+json": {
       "model_id": "28b7971d2816418cb2f0106faa17ab51",
       "version_major": 2,
       "version_minor": 0
      },
      "text/plain": [
       "Drawing 5000 posterior samples:   0%|          | 0/5000 [00:00<?, ?it/s]"
      ]
     },
     "metadata": {},
     "output_type": "display_data"
    },
    {
     "data": {
      "application/vnd.jupyter.widget-view+json": {
       "model_id": "cd7ba90c8077431391aa00df5b9909d4",
       "version_major": 2,
       "version_minor": 0
      },
      "text/plain": [
       "Drawing 5000 posterior samples:   0%|          | 0/5000 [00:00<?, ?it/s]"
      ]
     },
     "metadata": {},
     "output_type": "display_data"
    },
    {
     "data": {
      "application/vnd.jupyter.widget-view+json": {
       "model_id": "f0668902386143968091203e6c99769a",
       "version_major": 2,
       "version_minor": 0
      },
      "text/plain": [
       "Drawing 5000 posterior samples:   0%|          | 0/5000 [00:00<?, ?it/s]"
      ]
     },
     "metadata": {},
     "output_type": "display_data"
    },
    {
     "data": {
      "application/vnd.jupyter.widget-view+json": {
       "model_id": "5f8ffc3682054034ad622ddb49ecbfe6",
       "version_major": 2,
       "version_minor": 0
      },
      "text/plain": [
       "Drawing 5000 posterior samples:   0%|          | 0/5000 [00:00<?, ?it/s]"
      ]
     },
     "metadata": {},
     "output_type": "display_data"
    },
    {
     "data": {
      "application/vnd.jupyter.widget-view+json": {
       "model_id": "07fd5e8ef1f34f60b656a29e33282f07",
       "version_major": 2,
       "version_minor": 0
      },
      "text/plain": [
       "Drawing 5000 posterior samples:   0%|          | 0/5000 [00:00<?, ?it/s]"
      ]
     },
     "metadata": {},
     "output_type": "display_data"
    },
    {
     "data": {
      "application/vnd.jupyter.widget-view+json": {
       "model_id": "6b15fe42abc344ebaddab7173a59fedc",
       "version_major": 2,
       "version_minor": 0
      },
      "text/plain": [
       "Drawing 5000 posterior samples:   0%|          | 0/5000 [00:00<?, ?it/s]"
      ]
     },
     "metadata": {},
     "output_type": "display_data"
    },
    {
     "data": {
      "application/vnd.jupyter.widget-view+json": {
       "model_id": "b1ba1b1bcd4b439783281f7b99653689",
       "version_major": 2,
       "version_minor": 0
      },
      "text/plain": [
       "Drawing 5000 posterior samples:   0%|          | 0/5000 [00:00<?, ?it/s]"
      ]
     },
     "metadata": {},
     "output_type": "display_data"
    },
    {
     "data": {
      "application/vnd.jupyter.widget-view+json": {
       "model_id": "9693930261f242ad8d848e36555c54ae",
       "version_major": 2,
       "version_minor": 0
      },
      "text/plain": [
       "Drawing 5000 posterior samples:   0%|          | 0/5000 [00:00<?, ?it/s]"
      ]
     },
     "metadata": {},
     "output_type": "display_data"
    },
    {
     "data": {
      "application/vnd.jupyter.widget-view+json": {
       "model_id": "9df6bfb584664f2d9b3bf33921e8dff8",
       "version_major": 2,
       "version_minor": 0
      },
      "text/plain": [
       "Drawing 5000 posterior samples:   0%|          | 0/5000 [00:00<?, ?it/s]"
      ]
     },
     "metadata": {},
     "output_type": "display_data"
    },
    {
     "data": {
      "application/vnd.jupyter.widget-view+json": {
       "model_id": "f92265383bcb46149d78289ba0f059aa",
       "version_major": 2,
       "version_minor": 0
      },
      "text/plain": [
       "Drawing 5000 posterior samples:   0%|          | 0/5000 [00:00<?, ?it/s]"
      ]
     },
     "metadata": {},
     "output_type": "display_data"
    },
    {
     "data": {
      "application/vnd.jupyter.widget-view+json": {
       "model_id": "2c7993b702d3433181d88f37762aaaa2",
       "version_major": 2,
       "version_minor": 0
      },
      "text/plain": [
       "Drawing 5000 posterior samples:   0%|          | 0/5000 [00:00<?, ?it/s]"
      ]
     },
     "metadata": {},
     "output_type": "display_data"
    },
    {
     "data": {
      "application/vnd.jupyter.widget-view+json": {
       "model_id": "5d0f401426494d058a2a12a471c29165",
       "version_major": 2,
       "version_minor": 0
      },
      "text/plain": [
       "Drawing 5000 posterior samples:   0%|          | 0/5000 [00:00<?, ?it/s]"
      ]
     },
     "metadata": {},
     "output_type": "display_data"
    },
    {
     "data": {
      "application/vnd.jupyter.widget-view+json": {
       "model_id": "ffc634ef455d4d7f8bf1fe07c8537abf",
       "version_major": 2,
       "version_minor": 0
      },
      "text/plain": [
       "Drawing 5000 posterior samples:   0%|          | 0/5000 [00:00<?, ?it/s]"
      ]
     },
     "metadata": {},
     "output_type": "display_data"
    },
    {
     "data": {
      "application/vnd.jupyter.widget-view+json": {
       "model_id": "53200b552d7348bb83fee35a0b13a54a",
       "version_major": 2,
       "version_minor": 0
      },
      "text/plain": [
       "Drawing 5000 posterior samples:   0%|          | 0/5000 [00:00<?, ?it/s]"
      ]
     },
     "metadata": {},
     "output_type": "display_data"
    },
    {
     "data": {
      "application/vnd.jupyter.widget-view+json": {
       "model_id": "275d7a877b0e4914b3c6cab8e069c78f",
       "version_major": 2,
       "version_minor": 0
      },
      "text/plain": [
       "Drawing 5000 posterior samples:   0%|          | 0/5000 [00:00<?, ?it/s]"
      ]
     },
     "metadata": {},
     "output_type": "display_data"
    },
    {
     "data": {
      "application/vnd.jupyter.widget-view+json": {
       "model_id": "fe7bf1a477774afc8f664b8945e11948",
       "version_major": 2,
       "version_minor": 0
      },
      "text/plain": [
       "Drawing 5000 posterior samples:   0%|          | 0/5000 [00:00<?, ?it/s]"
      ]
     },
     "metadata": {},
     "output_type": "display_data"
    },
    {
     "data": {
      "application/vnd.jupyter.widget-view+json": {
       "model_id": "b5edc712939046578203464638727849",
       "version_major": 2,
       "version_minor": 0
      },
      "text/plain": [
       "Drawing 5000 posterior samples:   0%|          | 0/5000 [00:00<?, ?it/s]"
      ]
     },
     "metadata": {},
     "output_type": "display_data"
    },
    {
     "data": {
      "application/vnd.jupyter.widget-view+json": {
       "model_id": "836ee58ba9734ae5ba1a47f2b816d1bb",
       "version_major": 2,
       "version_minor": 0
      },
      "text/plain": [
       "Drawing 5000 posterior samples:   0%|          | 0/5000 [00:00<?, ?it/s]"
      ]
     },
     "metadata": {},
     "output_type": "display_data"
    },
    {
     "data": {
      "application/vnd.jupyter.widget-view+json": {
       "model_id": "08ca28749a8b419b9afeccd702700b9f",
       "version_major": 2,
       "version_minor": 0
      },
      "text/plain": [
       "Drawing 5000 posterior samples:   0%|          | 0/5000 [00:00<?, ?it/s]"
      ]
     },
     "metadata": {},
     "output_type": "display_data"
    },
    {
     "data": {
      "application/vnd.jupyter.widget-view+json": {
       "model_id": "6d152b845835473db92a71551d6461f8",
       "version_major": 2,
       "version_minor": 0
      },
      "text/plain": [
       "Drawing 5000 posterior samples:   0%|          | 0/5000 [00:00<?, ?it/s]"
      ]
     },
     "metadata": {},
     "output_type": "display_data"
    },
    {
     "data": {
      "application/vnd.jupyter.widget-view+json": {
       "model_id": "e7409bf81b6c4b568a56d0a9eaeef88f",
       "version_major": 2,
       "version_minor": 0
      },
      "text/plain": [
       "Drawing 5000 posterior samples:   0%|          | 0/5000 [00:00<?, ?it/s]"
      ]
     },
     "metadata": {},
     "output_type": "display_data"
    },
    {
     "data": {
      "application/vnd.jupyter.widget-view+json": {
       "model_id": "f6acd3f93ca141c999f0a2a564a196da",
       "version_major": 2,
       "version_minor": 0
      },
      "text/plain": [
       "Drawing 5000 posterior samples:   0%|          | 0/5000 [00:00<?, ?it/s]"
      ]
     },
     "metadata": {},
     "output_type": "display_data"
    },
    {
     "data": {
      "application/vnd.jupyter.widget-view+json": {
       "model_id": "607ec703a53942f89fa6e2c3a60e63d0",
       "version_major": 2,
       "version_minor": 0
      },
      "text/plain": [
       "Drawing 5000 posterior samples:   0%|          | 0/5000 [00:00<?, ?it/s]"
      ]
     },
     "metadata": {},
     "output_type": "display_data"
    },
    {
     "data": {
      "application/vnd.jupyter.widget-view+json": {
       "model_id": "9c6224ca27b145fbb1146c19ea29faee",
       "version_major": 2,
       "version_minor": 0
      },
      "text/plain": [
       "Drawing 5000 posterior samples:   0%|          | 0/5000 [00:00<?, ?it/s]"
      ]
     },
     "metadata": {},
     "output_type": "display_data"
    },
    {
     "data": {
      "application/vnd.jupyter.widget-view+json": {
       "model_id": "844f7d9045d34ea8a4a22c57919307ec",
       "version_major": 2,
       "version_minor": 0
      },
      "text/plain": [
       "Drawing 5000 posterior samples:   0%|          | 0/5000 [00:00<?, ?it/s]"
      ]
     },
     "metadata": {},
     "output_type": "display_data"
    },
    {
     "data": {
      "application/vnd.jupyter.widget-view+json": {
       "model_id": "88f37232e4c446ec84805e07cac51ca1",
       "version_major": 2,
       "version_minor": 0
      },
      "text/plain": [
       "Drawing 5000 posterior samples:   0%|          | 0/5000 [00:00<?, ?it/s]"
      ]
     },
     "metadata": {},
     "output_type": "display_data"
    },
    {
     "data": {
      "application/vnd.jupyter.widget-view+json": {
       "model_id": "ddeba0a53bab41abb2232207a8d5e014",
       "version_major": 2,
       "version_minor": 0
      },
      "text/plain": [
       "Drawing 5000 posterior samples:   0%|          | 0/5000 [00:00<?, ?it/s]"
      ]
     },
     "metadata": {},
     "output_type": "display_data"
    },
    {
     "data": {
      "application/vnd.jupyter.widget-view+json": {
       "model_id": "f23a3150c31f42569ee7ec5d3469255b",
       "version_major": 2,
       "version_minor": 0
      },
      "text/plain": [
       "Drawing 5000 posterior samples:   0%|          | 0/5000 [00:00<?, ?it/s]"
      ]
     },
     "metadata": {},
     "output_type": "display_data"
    },
    {
     "data": {
      "application/vnd.jupyter.widget-view+json": {
       "model_id": "9810b8e5a2bf48d6911dacf2f096ca72",
       "version_major": 2,
       "version_minor": 0
      },
      "text/plain": [
       "Drawing 5000 posterior samples:   0%|          | 0/5000 [00:00<?, ?it/s]"
      ]
     },
     "metadata": {},
     "output_type": "display_data"
    },
    {
     "data": {
      "application/vnd.jupyter.widget-view+json": {
       "model_id": "41b7c201c2444d41970d7e53dce1e389",
       "version_major": 2,
       "version_minor": 0
      },
      "text/plain": [
       "Drawing 5000 posterior samples:   0%|          | 0/5000 [00:00<?, ?it/s]"
      ]
     },
     "metadata": {},
     "output_type": "display_data"
    },
    {
     "data": {
      "application/vnd.jupyter.widget-view+json": {
       "model_id": "8abd7031b30a4ef1b6d1efff94a9f037",
       "version_major": 2,
       "version_minor": 0
      },
      "text/plain": [
       "Drawing 5000 posterior samples:   0%|          | 0/5000 [00:00<?, ?it/s]"
      ]
     },
     "metadata": {},
     "output_type": "display_data"
    },
    {
     "data": {
      "application/vnd.jupyter.widget-view+json": {
       "model_id": "05739c68460c46f9938ec25d8a23b46b",
       "version_major": 2,
       "version_minor": 0
      },
      "text/plain": [
       "Drawing 5000 posterior samples:   0%|          | 0/5000 [00:00<?, ?it/s]"
      ]
     },
     "metadata": {},
     "output_type": "display_data"
    },
    {
     "data": {
      "application/vnd.jupyter.widget-view+json": {
       "model_id": "dc691e24c666419ba76fabd65afadfae",
       "version_major": 2,
       "version_minor": 0
      },
      "text/plain": [
       "Drawing 5000 posterior samples:   0%|          | 0/5000 [00:00<?, ?it/s]"
      ]
     },
     "metadata": {},
     "output_type": "display_data"
    },
    {
     "data": {
      "application/vnd.jupyter.widget-view+json": {
       "model_id": "817059b015c543e1b449a77ca7be3946",
       "version_major": 2,
       "version_minor": 0
      },
      "text/plain": [
       "Drawing 5000 posterior samples:   0%|          | 0/5000 [00:00<?, ?it/s]"
      ]
     },
     "metadata": {},
     "output_type": "display_data"
    },
    {
     "data": {
      "application/vnd.jupyter.widget-view+json": {
       "model_id": "ec540227160148b7bb918202662d475d",
       "version_major": 2,
       "version_minor": 0
      },
      "text/plain": [
       "Drawing 5000 posterior samples:   0%|          | 0/5000 [00:00<?, ?it/s]"
      ]
     },
     "metadata": {},
     "output_type": "display_data"
    },
    {
     "data": {
      "application/vnd.jupyter.widget-view+json": {
       "model_id": "a344f0d1ed8d438299bc6f9436943351",
       "version_major": 2,
       "version_minor": 0
      },
      "text/plain": [
       "Drawing 5000 posterior samples:   0%|          | 0/5000 [00:00<?, ?it/s]"
      ]
     },
     "metadata": {},
     "output_type": "display_data"
    },
    {
     "data": {
      "application/vnd.jupyter.widget-view+json": {
       "model_id": "bd64de7eb2194963b671898fd57381ba",
       "version_major": 2,
       "version_minor": 0
      },
      "text/plain": [
       "Drawing 5000 posterior samples:   0%|          | 0/5000 [00:00<?, ?it/s]"
      ]
     },
     "metadata": {},
     "output_type": "display_data"
    },
    {
     "data": {
      "application/vnd.jupyter.widget-view+json": {
       "model_id": "e6e87e9c106d4a40928c460c0e4090d5",
       "version_major": 2,
       "version_minor": 0
      },
      "text/plain": [
       "Drawing 5000 posterior samples:   0%|          | 0/5000 [00:00<?, ?it/s]"
      ]
     },
     "metadata": {},
     "output_type": "display_data"
    },
    {
     "data": {
      "application/vnd.jupyter.widget-view+json": {
       "model_id": "0e64c43e491e415fb99fb91c5a1bc05f",
       "version_major": 2,
       "version_minor": 0
      },
      "text/plain": [
       "Drawing 5000 posterior samples:   0%|          | 0/5000 [00:00<?, ?it/s]"
      ]
     },
     "metadata": {},
     "output_type": "display_data"
    },
    {
     "data": {
      "application/vnd.jupyter.widget-view+json": {
       "model_id": "f9ab5682b01d4649b02b15ba3fc6b2d5",
       "version_major": 2,
       "version_minor": 0
      },
      "text/plain": [
       "Drawing 5000 posterior samples:   0%|          | 0/5000 [00:00<?, ?it/s]"
      ]
     },
     "metadata": {},
     "output_type": "display_data"
    },
    {
     "data": {
      "application/vnd.jupyter.widget-view+json": {
       "model_id": "4e0dfb0f9399449fb00158522572b0bf",
       "version_major": 2,
       "version_minor": 0
      },
      "text/plain": [
       "Drawing 5000 posterior samples:   0%|          | 0/5000 [00:00<?, ?it/s]"
      ]
     },
     "metadata": {},
     "output_type": "display_data"
    },
    {
     "data": {
      "application/vnd.jupyter.widget-view+json": {
       "model_id": "0fc0b9c26c9f48389dcac6206aacb955",
       "version_major": 2,
       "version_minor": 0
      },
      "text/plain": [
       "Drawing 5000 posterior samples:   0%|          | 0/5000 [00:00<?, ?it/s]"
      ]
     },
     "metadata": {},
     "output_type": "display_data"
    },
    {
     "data": {
      "application/vnd.jupyter.widget-view+json": {
       "model_id": "9a91931dc8e24500aa6d33937e37a689",
       "version_major": 2,
       "version_minor": 0
      },
      "text/plain": [
       "Drawing 5000 posterior samples:   0%|          | 0/5000 [00:00<?, ?it/s]"
      ]
     },
     "metadata": {},
     "output_type": "display_data"
    },
    {
     "data": {
      "application/vnd.jupyter.widget-view+json": {
       "model_id": "8a72dffabe32435b95f3dc97d50dfd9b",
       "version_major": 2,
       "version_minor": 0
      },
      "text/plain": [
       "Drawing 5000 posterior samples:   0%|          | 0/5000 [00:00<?, ?it/s]"
      ]
     },
     "metadata": {},
     "output_type": "display_data"
    },
    {
     "data": {
      "application/vnd.jupyter.widget-view+json": {
       "model_id": "24721d9947fe4734aa2e792aa0a3843b",
       "version_major": 2,
       "version_minor": 0
      },
      "text/plain": [
       "Drawing 5000 posterior samples:   0%|          | 0/5000 [00:00<?, ?it/s]"
      ]
     },
     "metadata": {},
     "output_type": "display_data"
    },
    {
     "data": {
      "application/vnd.jupyter.widget-view+json": {
       "model_id": "dbc70888c72149a3b05bc5134f192816",
       "version_major": 2,
       "version_minor": 0
      },
      "text/plain": [
       "Drawing 5000 posterior samples:   0%|          | 0/5000 [00:00<?, ?it/s]"
      ]
     },
     "metadata": {},
     "output_type": "display_data"
    },
    {
     "data": {
      "application/vnd.jupyter.widget-view+json": {
       "model_id": "3a861e6ad84644739f61111cae6dfacd",
       "version_major": 2,
       "version_minor": 0
      },
      "text/plain": [
       "Drawing 5000 posterior samples:   0%|          | 0/5000 [00:00<?, ?it/s]"
      ]
     },
     "metadata": {},
     "output_type": "display_data"
    },
    {
     "data": {
      "application/vnd.jupyter.widget-view+json": {
       "model_id": "b1aed99941e9418285a2df5965de0351",
       "version_major": 2,
       "version_minor": 0
      },
      "text/plain": [
       "Drawing 5000 posterior samples:   0%|          | 0/5000 [00:00<?, ?it/s]"
      ]
     },
     "metadata": {},
     "output_type": "display_data"
    },
    {
     "data": {
      "application/vnd.jupyter.widget-view+json": {
       "model_id": "ab229a8e48a641f3bc47807c60a4633d",
       "version_major": 2,
       "version_minor": 0
      },
      "text/plain": [
       "Drawing 5000 posterior samples:   0%|          | 0/5000 [00:00<?, ?it/s]"
      ]
     },
     "metadata": {},
     "output_type": "display_data"
    },
    {
     "data": {
      "application/vnd.jupyter.widget-view+json": {
       "model_id": "36d2c5ad99d44ba786f1ac36630494b0",
       "version_major": 2,
       "version_minor": 0
      },
      "text/plain": [
       "Drawing 5000 posterior samples:   0%|          | 0/5000 [00:00<?, ?it/s]"
      ]
     },
     "metadata": {},
     "output_type": "display_data"
    },
    {
     "data": {
      "application/vnd.jupyter.widget-view+json": {
       "model_id": "fb7532e0c876400393b77d793fe42fed",
       "version_major": 2,
       "version_minor": 0
      },
      "text/plain": [
       "Drawing 5000 posterior samples:   0%|          | 0/5000 [00:00<?, ?it/s]"
      ]
     },
     "metadata": {},
     "output_type": "display_data"
    },
    {
     "data": {
      "application/vnd.jupyter.widget-view+json": {
       "model_id": "1fff5454d46e49ec9350d981df064fdc",
       "version_major": 2,
       "version_minor": 0
      },
      "text/plain": [
       "Drawing 5000 posterior samples:   0%|          | 0/5000 [00:00<?, ?it/s]"
      ]
     },
     "metadata": {},
     "output_type": "display_data"
    },
    {
     "data": {
      "application/vnd.jupyter.widget-view+json": {
       "model_id": "1ea9985fd9054dd38a94060f372308e1",
       "version_major": 2,
       "version_minor": 0
      },
      "text/plain": [
       "Drawing 5000 posterior samples:   0%|          | 0/5000 [00:00<?, ?it/s]"
      ]
     },
     "metadata": {},
     "output_type": "display_data"
    },
    {
     "data": {
      "application/vnd.jupyter.widget-view+json": {
       "model_id": "3b24c1c08103451b8302daa11e5e9361",
       "version_major": 2,
       "version_minor": 0
      },
      "text/plain": [
       "Drawing 5000 posterior samples:   0%|          | 0/5000 [00:00<?, ?it/s]"
      ]
     },
     "metadata": {},
     "output_type": "display_data"
    },
    {
     "data": {
      "application/vnd.jupyter.widget-view+json": {
       "model_id": "1cd955abf7ba410cbf0634258dde0588",
       "version_major": 2,
       "version_minor": 0
      },
      "text/plain": [
       "Drawing 5000 posterior samples:   0%|          | 0/5000 [00:00<?, ?it/s]"
      ]
     },
     "metadata": {},
     "output_type": "display_data"
    },
    {
     "data": {
      "application/vnd.jupyter.widget-view+json": {
       "model_id": "dc388be1a179455b9cde7ef3f7c34591",
       "version_major": 2,
       "version_minor": 0
      },
      "text/plain": [
       "Drawing 5000 posterior samples:   0%|          | 0/5000 [00:00<?, ?it/s]"
      ]
     },
     "metadata": {},
     "output_type": "display_data"
    },
    {
     "data": {
      "application/vnd.jupyter.widget-view+json": {
       "model_id": "3a434efb950a42e28468cf632d646e0b",
       "version_major": 2,
       "version_minor": 0
      },
      "text/plain": [
       "Drawing 5000 posterior samples:   0%|          | 0/5000 [00:00<?, ?it/s]"
      ]
     },
     "metadata": {},
     "output_type": "display_data"
    },
    {
     "data": {
      "application/vnd.jupyter.widget-view+json": {
       "model_id": "60ea70ef17c34f1fb45ced7a6b91fd1e",
       "version_major": 2,
       "version_minor": 0
      },
      "text/plain": [
       "Drawing 5000 posterior samples:   0%|          | 0/5000 [00:00<?, ?it/s]"
      ]
     },
     "metadata": {},
     "output_type": "display_data"
    },
    {
     "data": {
      "application/vnd.jupyter.widget-view+json": {
       "model_id": "c5854780dfdf4270bd72757e5bd38f00",
       "version_major": 2,
       "version_minor": 0
      },
      "text/plain": [
       "Drawing 5000 posterior samples:   0%|          | 0/5000 [00:00<?, ?it/s]"
      ]
     },
     "metadata": {},
     "output_type": "display_data"
    },
    {
     "data": {
      "application/vnd.jupyter.widget-view+json": {
       "model_id": "efec38033fc54517af3a0ecb67698f28",
       "version_major": 2,
       "version_minor": 0
      },
      "text/plain": [
       "Drawing 5000 posterior samples:   0%|          | 0/5000 [00:00<?, ?it/s]"
      ]
     },
     "metadata": {},
     "output_type": "display_data"
    },
    {
     "data": {
      "application/vnd.jupyter.widget-view+json": {
       "model_id": "dcb355bcb6e9495a9c8b77c33de847c2",
       "version_major": 2,
       "version_minor": 0
      },
      "text/plain": [
       "Drawing 5000 posterior samples:   0%|          | 0/5000 [00:00<?, ?it/s]"
      ]
     },
     "metadata": {},
     "output_type": "display_data"
    },
    {
     "data": {
      "application/vnd.jupyter.widget-view+json": {
       "model_id": "d8a9ebe22963480a8337f38c5394d97a",
       "version_major": 2,
       "version_minor": 0
      },
      "text/plain": [
       "Drawing 5000 posterior samples:   0%|          | 0/5000 [00:00<?, ?it/s]"
      ]
     },
     "metadata": {},
     "output_type": "display_data"
    },
    {
     "data": {
      "application/vnd.jupyter.widget-view+json": {
       "model_id": "ca20a4545a28452895a8421106e25dd2",
       "version_major": 2,
       "version_minor": 0
      },
      "text/plain": [
       "Drawing 5000 posterior samples:   0%|          | 0/5000 [00:00<?, ?it/s]"
      ]
     },
     "metadata": {},
     "output_type": "display_data"
    },
    {
     "data": {
      "application/vnd.jupyter.widget-view+json": {
       "model_id": "21271b19ca7b43b4ab8cb6f41696ad26",
       "version_major": 2,
       "version_minor": 0
      },
      "text/plain": [
       "Drawing 5000 posterior samples:   0%|          | 0/5000 [00:00<?, ?it/s]"
      ]
     },
     "metadata": {},
     "output_type": "display_data"
    },
    {
     "data": {
      "application/vnd.jupyter.widget-view+json": {
       "model_id": "f17b05e6c8ac458b98e2611a212b7885",
       "version_major": 2,
       "version_minor": 0
      },
      "text/plain": [
       "Drawing 5000 posterior samples:   0%|          | 0/5000 [00:00<?, ?it/s]"
      ]
     },
     "metadata": {},
     "output_type": "display_data"
    },
    {
     "data": {
      "application/vnd.jupyter.widget-view+json": {
       "model_id": "04499679cd954969ba1332e864c71035",
       "version_major": 2,
       "version_minor": 0
      },
      "text/plain": [
       "Drawing 5000 posterior samples:   0%|          | 0/5000 [00:00<?, ?it/s]"
      ]
     },
     "metadata": {},
     "output_type": "display_data"
    },
    {
     "data": {
      "application/vnd.jupyter.widget-view+json": {
       "model_id": "c84a62563d1649a99aad436ac77755ad",
       "version_major": 2,
       "version_minor": 0
      },
      "text/plain": [
       "Drawing 5000 posterior samples:   0%|          | 0/5000 [00:00<?, ?it/s]"
      ]
     },
     "metadata": {},
     "output_type": "display_data"
    },
    {
     "data": {
      "application/vnd.jupyter.widget-view+json": {
       "model_id": "d3e7561bc16d4d03aea3a6f4f8588d46",
       "version_major": 2,
       "version_minor": 0
      },
      "text/plain": [
       "Drawing 5000 posterior samples:   0%|          | 0/5000 [00:00<?, ?it/s]"
      ]
     },
     "metadata": {},
     "output_type": "display_data"
    },
    {
     "data": {
      "application/vnd.jupyter.widget-view+json": {
       "model_id": "8a8789f3177c45369b86882cfaa1ef04",
       "version_major": 2,
       "version_minor": 0
      },
      "text/plain": [
       "Drawing 5000 posterior samples:   0%|          | 0/5000 [00:00<?, ?it/s]"
      ]
     },
     "metadata": {},
     "output_type": "display_data"
    },
    {
     "data": {
      "application/vnd.jupyter.widget-view+json": {
       "model_id": "3342bc7880804de5a28c4ade4f6b7103",
       "version_major": 2,
       "version_minor": 0
      },
      "text/plain": [
       "Drawing 5000 posterior samples:   0%|          | 0/5000 [00:00<?, ?it/s]"
      ]
     },
     "metadata": {},
     "output_type": "display_data"
    },
    {
     "data": {
      "application/vnd.jupyter.widget-view+json": {
       "model_id": "14ecf4dde1e8438e8ac85fd597acd279",
       "version_major": 2,
       "version_minor": 0
      },
      "text/plain": [
       "Drawing 5000 posterior samples:   0%|          | 0/5000 [00:00<?, ?it/s]"
      ]
     },
     "metadata": {},
     "output_type": "display_data"
    },
    {
     "data": {
      "application/vnd.jupyter.widget-view+json": {
       "model_id": "f38c68c3b13640668fbe9248cbb70fa0",
       "version_major": 2,
       "version_minor": 0
      },
      "text/plain": [
       "Drawing 5000 posterior samples:   0%|          | 0/5000 [00:00<?, ?it/s]"
      ]
     },
     "metadata": {},
     "output_type": "display_data"
    },
    {
     "data": {
      "application/vnd.jupyter.widget-view+json": {
       "model_id": "6c0e70a026824030928381e0cc74ff7b",
       "version_major": 2,
       "version_minor": 0
      },
      "text/plain": [
       "Drawing 5000 posterior samples:   0%|          | 0/5000 [00:00<?, ?it/s]"
      ]
     },
     "metadata": {},
     "output_type": "display_data"
    },
    {
     "data": {
      "application/vnd.jupyter.widget-view+json": {
       "model_id": "8de62d70814d44fcbb92338eb250be0a",
       "version_major": 2,
       "version_minor": 0
      },
      "text/plain": [
       "Drawing 5000 posterior samples:   0%|          | 0/5000 [00:00<?, ?it/s]"
      ]
     },
     "metadata": {},
     "output_type": "display_data"
    },
    {
     "data": {
      "application/vnd.jupyter.widget-view+json": {
       "model_id": "4143ed02190b4887ae14aa1ca55224d8",
       "version_major": 2,
       "version_minor": 0
      },
      "text/plain": [
       "Drawing 5000 posterior samples:   0%|          | 0/5000 [00:00<?, ?it/s]"
      ]
     },
     "metadata": {},
     "output_type": "display_data"
    },
    {
     "data": {
      "application/vnd.jupyter.widget-view+json": {
       "model_id": "b76bb094a5ec4cffb07d4a04ced5a326",
       "version_major": 2,
       "version_minor": 0
      },
      "text/plain": [
       "Drawing 5000 posterior samples:   0%|          | 0/5000 [00:00<?, ?it/s]"
      ]
     },
     "metadata": {},
     "output_type": "display_data"
    },
    {
     "data": {
      "application/vnd.jupyter.widget-view+json": {
       "model_id": "0b98063fcde242588193db8d5c6d2757",
       "version_major": 2,
       "version_minor": 0
      },
      "text/plain": [
       "Drawing 5000 posterior samples:   0%|          | 0/5000 [00:00<?, ?it/s]"
      ]
     },
     "metadata": {},
     "output_type": "display_data"
    },
    {
     "data": {
      "application/vnd.jupyter.widget-view+json": {
       "model_id": "fd37f764715c40fd974290c01f5b8b78",
       "version_major": 2,
       "version_minor": 0
      },
      "text/plain": [
       "Drawing 5000 posterior samples:   0%|          | 0/5000 [00:00<?, ?it/s]"
      ]
     },
     "metadata": {},
     "output_type": "display_data"
    },
    {
     "data": {
      "application/vnd.jupyter.widget-view+json": {
       "model_id": "29d424c82837458ebec8919b9de0d0d5",
       "version_major": 2,
       "version_minor": 0
      },
      "text/plain": [
       "Drawing 5000 posterior samples:   0%|          | 0/5000 [00:00<?, ?it/s]"
      ]
     },
     "metadata": {},
     "output_type": "display_data"
    },
    {
     "data": {
      "application/vnd.jupyter.widget-view+json": {
       "model_id": "b40f4c7dd656412aa0b2fab29c0458a1",
       "version_major": 2,
       "version_minor": 0
      },
      "text/plain": [
       "Drawing 5000 posterior samples:   0%|          | 0/5000 [00:00<?, ?it/s]"
      ]
     },
     "metadata": {},
     "output_type": "display_data"
    },
    {
     "data": {
      "application/vnd.jupyter.widget-view+json": {
       "model_id": "5c89b7ccbb9342f9a5924bbf5741e191",
       "version_major": 2,
       "version_minor": 0
      },
      "text/plain": [
       "Drawing 5000 posterior samples:   0%|          | 0/5000 [00:00<?, ?it/s]"
      ]
     },
     "metadata": {},
     "output_type": "display_data"
    },
    {
     "data": {
      "application/vnd.jupyter.widget-view+json": {
       "model_id": "b0a6b7aaf38b40aabc711555b89253f3",
       "version_major": 2,
       "version_minor": 0
      },
      "text/plain": [
       "Drawing 5000 posterior samples:   0%|          | 0/5000 [00:00<?, ?it/s]"
      ]
     },
     "metadata": {},
     "output_type": "display_data"
    },
    {
     "data": {
      "application/vnd.jupyter.widget-view+json": {
       "model_id": "611b688456204b4084e7c5a160fe539b",
       "version_major": 2,
       "version_minor": 0
      },
      "text/plain": [
       "Drawing 5000 posterior samples:   0%|          | 0/5000 [00:00<?, ?it/s]"
      ]
     },
     "metadata": {},
     "output_type": "display_data"
    },
    {
     "data": {
      "application/vnd.jupyter.widget-view+json": {
       "model_id": "b432bb7ecd0249e1b108c5d985628d62",
       "version_major": 2,
       "version_minor": 0
      },
      "text/plain": [
       "Drawing 5000 posterior samples:   0%|          | 0/5000 [00:00<?, ?it/s]"
      ]
     },
     "metadata": {},
     "output_type": "display_data"
    },
    {
     "data": {
      "application/vnd.jupyter.widget-view+json": {
       "model_id": "b57f6bd4c474457c869095e9eec431f7",
       "version_major": 2,
       "version_minor": 0
      },
      "text/plain": [
       "Drawing 5000 posterior samples:   0%|          | 0/5000 [00:00<?, ?it/s]"
      ]
     },
     "metadata": {},
     "output_type": "display_data"
    },
    {
     "data": {
      "application/vnd.jupyter.widget-view+json": {
       "model_id": "c7c6539b149c41809c42b0254229966c",
       "version_major": 2,
       "version_minor": 0
      },
      "text/plain": [
       "Drawing 5000 posterior samples:   0%|          | 0/5000 [00:00<?, ?it/s]"
      ]
     },
     "metadata": {},
     "output_type": "display_data"
    },
    {
     "data": {
      "application/vnd.jupyter.widget-view+json": {
       "model_id": "225295b3b2254866b5b6ac0da9787dc2",
       "version_major": 2,
       "version_minor": 0
      },
      "text/plain": [
       "Drawing 5000 posterior samples:   0%|          | 0/5000 [00:00<?, ?it/s]"
      ]
     },
     "metadata": {},
     "output_type": "display_data"
    },
    {
     "data": {
      "application/vnd.jupyter.widget-view+json": {
       "model_id": "1936f8b26c924fd3b198afe880639613",
       "version_major": 2,
       "version_minor": 0
      },
      "text/plain": [
       "Drawing 5000 posterior samples:   0%|          | 0/5000 [00:00<?, ?it/s]"
      ]
     },
     "metadata": {},
     "output_type": "display_data"
    },
    {
     "data": {
      "application/vnd.jupyter.widget-view+json": {
       "model_id": "eb617479909e406ab3a4cca1b7e10f2b",
       "version_major": 2,
       "version_minor": 0
      },
      "text/plain": [
       "Drawing 5000 posterior samples:   0%|          | 0/5000 [00:00<?, ?it/s]"
      ]
     },
     "metadata": {},
     "output_type": "display_data"
    },
    {
     "data": {
      "application/vnd.jupyter.widget-view+json": {
       "model_id": "af2bcd7fd6e44bc4a757c9f86ec900ec",
       "version_major": 2,
       "version_minor": 0
      },
      "text/plain": [
       "Drawing 5000 posterior samples:   0%|          | 0/5000 [00:00<?, ?it/s]"
      ]
     },
     "metadata": {},
     "output_type": "display_data"
    },
    {
     "data": {
      "application/vnd.jupyter.widget-view+json": {
       "model_id": "5e346675436847dbbd5322388198f312",
       "version_major": 2,
       "version_minor": 0
      },
      "text/plain": [
       "Drawing 5000 posterior samples:   0%|          | 0/5000 [00:00<?, ?it/s]"
      ]
     },
     "metadata": {},
     "output_type": "display_data"
    },
    {
     "data": {
      "application/vnd.jupyter.widget-view+json": {
       "model_id": "f89102b34aa14c6d9dca0da5bac50db2",
       "version_major": 2,
       "version_minor": 0
      },
      "text/plain": [
       "Drawing 5000 posterior samples:   0%|          | 0/5000 [00:00<?, ?it/s]"
      ]
     },
     "metadata": {},
     "output_type": "display_data"
    },
    {
     "data": {
      "application/vnd.jupyter.widget-view+json": {
       "model_id": "86665e8189114206a63ca1d0f9eda816",
       "version_major": 2,
       "version_minor": 0
      },
      "text/plain": [
       "Drawing 5000 posterior samples:   0%|          | 0/5000 [00:00<?, ?it/s]"
      ]
     },
     "metadata": {},
     "output_type": "display_data"
    },
    {
     "data": {
      "application/vnd.jupyter.widget-view+json": {
       "model_id": "e54f89b04aa2431b9cf1be4af9661349",
       "version_major": 2,
       "version_minor": 0
      },
      "text/plain": [
       "Drawing 5000 posterior samples:   0%|          | 0/5000 [00:00<?, ?it/s]"
      ]
     },
     "metadata": {},
     "output_type": "display_data"
    },
    {
     "data": {
      "application/vnd.jupyter.widget-view+json": {
       "model_id": "d1be06ebf77b478bbc37556ecf8998bd",
       "version_major": 2,
       "version_minor": 0
      },
      "text/plain": [
       "Drawing 5000 posterior samples:   0%|          | 0/5000 [00:00<?, ?it/s]"
      ]
     },
     "metadata": {},
     "output_type": "display_data"
    },
    {
     "data": {
      "application/vnd.jupyter.widget-view+json": {
       "model_id": "24082123b9b64f26b775e33a115c98c7",
       "version_major": 2,
       "version_minor": 0
      },
      "text/plain": [
       "Drawing 5000 posterior samples:   0%|          | 0/5000 [00:00<?, ?it/s]"
      ]
     },
     "metadata": {},
     "output_type": "display_data"
    },
    {
     "data": {
      "application/vnd.jupyter.widget-view+json": {
       "model_id": "f484578a25b842ed8902a2e0c470e368",
       "version_major": 2,
       "version_minor": 0
      },
      "text/plain": [
       "Drawing 5000 posterior samples:   0%|          | 0/5000 [00:00<?, ?it/s]"
      ]
     },
     "metadata": {},
     "output_type": "display_data"
    },
    {
     "data": {
      "application/vnd.jupyter.widget-view+json": {
       "model_id": "03ba751c80354e60bb0499fc340720ee",
       "version_major": 2,
       "version_minor": 0
      },
      "text/plain": [
       "Drawing 5000 posterior samples:   0%|          | 0/5000 [00:00<?, ?it/s]"
      ]
     },
     "metadata": {},
     "output_type": "display_data"
    },
    {
     "data": {
      "application/vnd.jupyter.widget-view+json": {
       "model_id": "d4b0451143c84dce9d254af286075ae5",
       "version_major": 2,
       "version_minor": 0
      },
      "text/plain": [
       "Drawing 5000 posterior samples:   0%|          | 0/5000 [00:00<?, ?it/s]"
      ]
     },
     "metadata": {},
     "output_type": "display_data"
    },
    {
     "data": {
      "application/vnd.jupyter.widget-view+json": {
       "model_id": "b85bc22fee7a47288304fc4d31f56710",
       "version_major": 2,
       "version_minor": 0
      },
      "text/plain": [
       "Drawing 5000 posterior samples:   0%|          | 0/5000 [00:00<?, ?it/s]"
      ]
     },
     "metadata": {},
     "output_type": "display_data"
    },
    {
     "data": {
      "application/vnd.jupyter.widget-view+json": {
       "model_id": "c9371c1e50384809abd47c3432dc3b9f",
       "version_major": 2,
       "version_minor": 0
      },
      "text/plain": [
       "Drawing 5000 posterior samples:   0%|          | 0/5000 [00:00<?, ?it/s]"
      ]
     },
     "metadata": {},
     "output_type": "display_data"
    },
    {
     "data": {
      "application/vnd.jupyter.widget-view+json": {
       "model_id": "01848fb530c643eba968c274d09e5524",
       "version_major": 2,
       "version_minor": 0
      },
      "text/plain": [
       "Drawing 5000 posterior samples:   0%|          | 0/5000 [00:00<?, ?it/s]"
      ]
     },
     "metadata": {},
     "output_type": "display_data"
    },
    {
     "data": {
      "application/vnd.jupyter.widget-view+json": {
       "model_id": "d127eaf62b3f4451ac01be63f4140a94",
       "version_major": 2,
       "version_minor": 0
      },
      "text/plain": [
       "Drawing 5000 posterior samples:   0%|          | 0/5000 [00:00<?, ?it/s]"
      ]
     },
     "metadata": {},
     "output_type": "display_data"
    },
    {
     "data": {
      "application/vnd.jupyter.widget-view+json": {
       "model_id": "104bdf643d304f4fb320ad8198894a5e",
       "version_major": 2,
       "version_minor": 0
      },
      "text/plain": [
       "Drawing 5000 posterior samples:   0%|          | 0/5000 [00:00<?, ?it/s]"
      ]
     },
     "metadata": {},
     "output_type": "display_data"
    },
    {
     "data": {
      "application/vnd.jupyter.widget-view+json": {
       "model_id": "94b0d72a1f954560a76e643a63b304d7",
       "version_major": 2,
       "version_minor": 0
      },
      "text/plain": [
       "Drawing 5000 posterior samples:   0%|          | 0/5000 [00:00<?, ?it/s]"
      ]
     },
     "metadata": {},
     "output_type": "display_data"
    },
    {
     "data": {
      "application/vnd.jupyter.widget-view+json": {
       "model_id": "e569f383293c4bdea3617627472954c0",
       "version_major": 2,
       "version_minor": 0
      },
      "text/plain": [
       "Drawing 5000 posterior samples:   0%|          | 0/5000 [00:00<?, ?it/s]"
      ]
     },
     "metadata": {},
     "output_type": "display_data"
    },
    {
     "data": {
      "application/vnd.jupyter.widget-view+json": {
       "model_id": "8be5022dc8544d26b2aee8589752c406",
       "version_major": 2,
       "version_minor": 0
      },
      "text/plain": [
       "Drawing 5000 posterior samples:   0%|          | 0/5000 [00:00<?, ?it/s]"
      ]
     },
     "metadata": {},
     "output_type": "display_data"
    },
    {
     "data": {
      "application/vnd.jupyter.widget-view+json": {
       "model_id": "95e74cfc95c34f3db0f2da7a99ff95a9",
       "version_major": 2,
       "version_minor": 0
      },
      "text/plain": [
       "Drawing 5000 posterior samples:   0%|          | 0/5000 [00:00<?, ?it/s]"
      ]
     },
     "metadata": {},
     "output_type": "display_data"
    },
    {
     "data": {
      "application/vnd.jupyter.widget-view+json": {
       "model_id": "e015604cc1904b0eac1b5e5ed83c4d20",
       "version_major": 2,
       "version_minor": 0
      },
      "text/plain": [
       "Drawing 5000 posterior samples:   0%|          | 0/5000 [00:00<?, ?it/s]"
      ]
     },
     "metadata": {},
     "output_type": "display_data"
    },
    {
     "data": {
      "application/vnd.jupyter.widget-view+json": {
       "model_id": "504702bd1e1c4560a37ab74b63ed2655",
       "version_major": 2,
       "version_minor": 0
      },
      "text/plain": [
       "Drawing 5000 posterior samples:   0%|          | 0/5000 [00:00<?, ?it/s]"
      ]
     },
     "metadata": {},
     "output_type": "display_data"
    },
    {
     "data": {
      "application/vnd.jupyter.widget-view+json": {
       "model_id": "bc2692f72c7040c8b7b754f1ac20c888",
       "version_major": 2,
       "version_minor": 0
      },
      "text/plain": [
       "Drawing 5000 posterior samples:   0%|          | 0/5000 [00:00<?, ?it/s]"
      ]
     },
     "metadata": {},
     "output_type": "display_data"
    },
    {
     "data": {
      "application/vnd.jupyter.widget-view+json": {
       "model_id": "9fa396b1811c4b1986d8749bf7aaaa41",
       "version_major": 2,
       "version_minor": 0
      },
      "text/plain": [
       "Drawing 5000 posterior samples:   0%|          | 0/5000 [00:00<?, ?it/s]"
      ]
     },
     "metadata": {},
     "output_type": "display_data"
    },
    {
     "data": {
      "application/vnd.jupyter.widget-view+json": {
       "model_id": "cf9f7faa150040609ccf4507246553ee",
       "version_major": 2,
       "version_minor": 0
      },
      "text/plain": [
       "Drawing 5000 posterior samples:   0%|          | 0/5000 [00:00<?, ?it/s]"
      ]
     },
     "metadata": {},
     "output_type": "display_data"
    },
    {
     "data": {
      "application/vnd.jupyter.widget-view+json": {
       "model_id": "ee110eada11b446983ab154774fa0abc",
       "version_major": 2,
       "version_minor": 0
      },
      "text/plain": [
       "Drawing 5000 posterior samples:   0%|          | 0/5000 [00:00<?, ?it/s]"
      ]
     },
     "metadata": {},
     "output_type": "display_data"
    },
    {
     "data": {
      "application/vnd.jupyter.widget-view+json": {
       "model_id": "0a8bcf997cca494292a493d118f9fc92",
       "version_major": 2,
       "version_minor": 0
      },
      "text/plain": [
       "Drawing 5000 posterior samples:   0%|          | 0/5000 [00:00<?, ?it/s]"
      ]
     },
     "metadata": {},
     "output_type": "display_data"
    },
    {
     "data": {
      "application/vnd.jupyter.widget-view+json": {
       "model_id": "b8ed3ce1fc3f498995d3c51d04ae2c5a",
       "version_major": 2,
       "version_minor": 0
      },
      "text/plain": [
       "Drawing 5000 posterior samples:   0%|          | 0/5000 [00:00<?, ?it/s]"
      ]
     },
     "metadata": {},
     "output_type": "display_data"
    },
    {
     "data": {
      "application/vnd.jupyter.widget-view+json": {
       "model_id": "60c50ff4c84f4ca1bee2462b5eb55f5f",
       "version_major": 2,
       "version_minor": 0
      },
      "text/plain": [
       "Drawing 5000 posterior samples:   0%|          | 0/5000 [00:00<?, ?it/s]"
      ]
     },
     "metadata": {},
     "output_type": "display_data"
    },
    {
     "data": {
      "application/vnd.jupyter.widget-view+json": {
       "model_id": "262688dfc0dd4200819ea572e7d442ef",
       "version_major": 2,
       "version_minor": 0
      },
      "text/plain": [
       "Drawing 5000 posterior samples:   0%|          | 0/5000 [00:00<?, ?it/s]"
      ]
     },
     "metadata": {},
     "output_type": "display_data"
    },
    {
     "data": {
      "application/vnd.jupyter.widget-view+json": {
       "model_id": "d2a538bfacc0488d8432f36b26feb8c6",
       "version_major": 2,
       "version_minor": 0
      },
      "text/plain": [
       "Drawing 5000 posterior samples:   0%|          | 0/5000 [00:00<?, ?it/s]"
      ]
     },
     "metadata": {},
     "output_type": "display_data"
    },
    {
     "data": {
      "application/vnd.jupyter.widget-view+json": {
       "model_id": "a07dc839f77c44aa9314d42286360912",
       "version_major": 2,
       "version_minor": 0
      },
      "text/plain": [
       "Drawing 5000 posterior samples:   0%|          | 0/5000 [00:00<?, ?it/s]"
      ]
     },
     "metadata": {},
     "output_type": "display_data"
    },
    {
     "data": {
      "application/vnd.jupyter.widget-view+json": {
       "model_id": "80215ce08a414e5999ff3f5af6e5d2ae",
       "version_major": 2,
       "version_minor": 0
      },
      "text/plain": [
       "Drawing 5000 posterior samples:   0%|          | 0/5000 [00:00<?, ?it/s]"
      ]
     },
     "metadata": {},
     "output_type": "display_data"
    },
    {
     "data": {
      "application/vnd.jupyter.widget-view+json": {
       "model_id": "eb90e59ef5454e648968f692f43f1c86",
       "version_major": 2,
       "version_minor": 0
      },
      "text/plain": [
       "Drawing 5000 posterior samples:   0%|          | 0/5000 [00:00<?, ?it/s]"
      ]
     },
     "metadata": {},
     "output_type": "display_data"
    },
    {
     "data": {
      "application/vnd.jupyter.widget-view+json": {
       "model_id": "2b91b82ec5a346fc833f150860a8aec8",
       "version_major": 2,
       "version_minor": 0
      },
      "text/plain": [
       "Drawing 5000 posterior samples:   0%|          | 0/5000 [00:00<?, ?it/s]"
      ]
     },
     "metadata": {},
     "output_type": "display_data"
    },
    {
     "data": {
      "application/vnd.jupyter.widget-view+json": {
       "model_id": "7064d9ef6508492b8076e55c56bedc66",
       "version_major": 2,
       "version_minor": 0
      },
      "text/plain": [
       "Drawing 5000 posterior samples:   0%|          | 0/5000 [00:00<?, ?it/s]"
      ]
     },
     "metadata": {},
     "output_type": "display_data"
    },
    {
     "data": {
      "application/vnd.jupyter.widget-view+json": {
       "model_id": "1e5e77810c7c4be1a0e78cb3e99bb235",
       "version_major": 2,
       "version_minor": 0
      },
      "text/plain": [
       "Drawing 5000 posterior samples:   0%|          | 0/5000 [00:00<?, ?it/s]"
      ]
     },
     "metadata": {},
     "output_type": "display_data"
    },
    {
     "data": {
      "application/vnd.jupyter.widget-view+json": {
       "model_id": "0176a438eda64dd59444431bc897d1aa",
       "version_major": 2,
       "version_minor": 0
      },
      "text/plain": [
       "Drawing 5000 posterior samples:   0%|          | 0/5000 [00:00<?, ?it/s]"
      ]
     },
     "metadata": {},
     "output_type": "display_data"
    },
    {
     "data": {
      "application/vnd.jupyter.widget-view+json": {
       "model_id": "33133c75fbe34e078f7386b9d34a35a3",
       "version_major": 2,
       "version_minor": 0
      },
      "text/plain": [
       "Drawing 5000 posterior samples:   0%|          | 0/5000 [00:00<?, ?it/s]"
      ]
     },
     "metadata": {},
     "output_type": "display_data"
    },
    {
     "data": {
      "application/vnd.jupyter.widget-view+json": {
       "model_id": "876510ca51dc4f98938ebf8798feb2ca",
       "version_major": 2,
       "version_minor": 0
      },
      "text/plain": [
       "Drawing 5000 posterior samples:   0%|          | 0/5000 [00:00<?, ?it/s]"
      ]
     },
     "metadata": {},
     "output_type": "display_data"
    },
    {
     "data": {
      "application/vnd.jupyter.widget-view+json": {
       "model_id": "7fd8992e032c41b48e70e32eb9b17118",
       "version_major": 2,
       "version_minor": 0
      },
      "text/plain": [
       "Drawing 5000 posterior samples:   0%|          | 0/5000 [00:00<?, ?it/s]"
      ]
     },
     "metadata": {},
     "output_type": "display_data"
    },
    {
     "data": {
      "application/vnd.jupyter.widget-view+json": {
       "model_id": "e10e03f93570448a870cf06de3239cac",
       "version_major": 2,
       "version_minor": 0
      },
      "text/plain": [
       "Drawing 5000 posterior samples:   0%|          | 0/5000 [00:00<?, ?it/s]"
      ]
     },
     "metadata": {},
     "output_type": "display_data"
    },
    {
     "data": {
      "application/vnd.jupyter.widget-view+json": {
       "model_id": "2ab5b43fc08042eb873c70eeb74f4f84",
       "version_major": 2,
       "version_minor": 0
      },
      "text/plain": [
       "Drawing 5000 posterior samples:   0%|          | 0/5000 [00:00<?, ?it/s]"
      ]
     },
     "metadata": {},
     "output_type": "display_data"
    },
    {
     "data": {
      "application/vnd.jupyter.widget-view+json": {
       "model_id": "45b798eb47fa464c97ce306f96f8bbc8",
       "version_major": 2,
       "version_minor": 0
      },
      "text/plain": [
       "Drawing 5000 posterior samples:   0%|          | 0/5000 [00:00<?, ?it/s]"
      ]
     },
     "metadata": {},
     "output_type": "display_data"
    },
    {
     "data": {
      "application/vnd.jupyter.widget-view+json": {
       "model_id": "d62a0eebd4344beaa249a12567168ab8",
       "version_major": 2,
       "version_minor": 0
      },
      "text/plain": [
       "Drawing 5000 posterior samples:   0%|          | 0/5000 [00:00<?, ?it/s]"
      ]
     },
     "metadata": {},
     "output_type": "display_data"
    },
    {
     "data": {
      "application/vnd.jupyter.widget-view+json": {
       "model_id": "c2aeba63f3fa4f46b6bd0114c2716b64",
       "version_major": 2,
       "version_minor": 0
      },
      "text/plain": [
       "Drawing 5000 posterior samples:   0%|          | 0/5000 [00:00<?, ?it/s]"
      ]
     },
     "metadata": {},
     "output_type": "display_data"
    },
    {
     "data": {
      "application/vnd.jupyter.widget-view+json": {
       "model_id": "31e9559310c24c0180581a9502cd7314",
       "version_major": 2,
       "version_minor": 0
      },
      "text/plain": [
       "Drawing 5000 posterior samples:   0%|          | 0/5000 [00:00<?, ?it/s]"
      ]
     },
     "metadata": {},
     "output_type": "display_data"
    },
    {
     "data": {
      "application/vnd.jupyter.widget-view+json": {
       "model_id": "1fa3780c1a6941479da5eee2743b2119",
       "version_major": 2,
       "version_minor": 0
      },
      "text/plain": [
       "Drawing 5000 posterior samples:   0%|          | 0/5000 [00:00<?, ?it/s]"
      ]
     },
     "metadata": {},
     "output_type": "display_data"
    },
    {
     "data": {
      "application/vnd.jupyter.widget-view+json": {
       "model_id": "d67e9d41edc04fa396ffac849caac853",
       "version_major": 2,
       "version_minor": 0
      },
      "text/plain": [
       "Drawing 5000 posterior samples:   0%|          | 0/5000 [00:00<?, ?it/s]"
      ]
     },
     "metadata": {},
     "output_type": "display_data"
    },
    {
     "data": {
      "application/vnd.jupyter.widget-view+json": {
       "model_id": "a10975387cf748898886bf81d1fe1182",
       "version_major": 2,
       "version_minor": 0
      },
      "text/plain": [
       "Drawing 5000 posterior samples:   0%|          | 0/5000 [00:00<?, ?it/s]"
      ]
     },
     "metadata": {},
     "output_type": "display_data"
    },
    {
     "data": {
      "application/vnd.jupyter.widget-view+json": {
       "model_id": "4f9c0a8f542d42479030b4ffa051d09e",
       "version_major": 2,
       "version_minor": 0
      },
      "text/plain": [
       "Drawing 5000 posterior samples:   0%|          | 0/5000 [00:00<?, ?it/s]"
      ]
     },
     "metadata": {},
     "output_type": "display_data"
    },
    {
     "data": {
      "application/vnd.jupyter.widget-view+json": {
       "model_id": "363a168ec9f640b2be38654b1910a8c8",
       "version_major": 2,
       "version_minor": 0
      },
      "text/plain": [
       "Drawing 5000 posterior samples:   0%|          | 0/5000 [00:00<?, ?it/s]"
      ]
     },
     "metadata": {},
     "output_type": "display_data"
    },
    {
     "data": {
      "application/vnd.jupyter.widget-view+json": {
       "model_id": "0b0040b8288540969a2d6541eaf3ef9c",
       "version_major": 2,
       "version_minor": 0
      },
      "text/plain": [
       "Drawing 5000 posterior samples:   0%|          | 0/5000 [00:00<?, ?it/s]"
      ]
     },
     "metadata": {},
     "output_type": "display_data"
    },
    {
     "data": {
      "application/vnd.jupyter.widget-view+json": {
       "model_id": "4f3131dc671d483dbd99a5ad96c32a3e",
       "version_major": 2,
       "version_minor": 0
      },
      "text/plain": [
       "Drawing 5000 posterior samples:   0%|          | 0/5000 [00:00<?, ?it/s]"
      ]
     },
     "metadata": {},
     "output_type": "display_data"
    },
    {
     "data": {
      "application/vnd.jupyter.widget-view+json": {
       "model_id": "0998c436f759461c95972ca37b3c0f06",
       "version_major": 2,
       "version_minor": 0
      },
      "text/plain": [
       "Drawing 5000 posterior samples:   0%|          | 0/5000 [00:00<?, ?it/s]"
      ]
     },
     "metadata": {},
     "output_type": "display_data"
    },
    {
     "data": {
      "application/vnd.jupyter.widget-view+json": {
       "model_id": "8354801e7fde4c9c89892ec125fa3f90",
       "version_major": 2,
       "version_minor": 0
      },
      "text/plain": [
       "Drawing 5000 posterior samples:   0%|          | 0/5000 [00:00<?, ?it/s]"
      ]
     },
     "metadata": {},
     "output_type": "display_data"
    },
    {
     "data": {
      "application/vnd.jupyter.widget-view+json": {
       "model_id": "d7ee6ec91b224fe28d026b2418ef3698",
       "version_major": 2,
       "version_minor": 0
      },
      "text/plain": [
       "Drawing 5000 posterior samples:   0%|          | 0/5000 [00:00<?, ?it/s]"
      ]
     },
     "metadata": {},
     "output_type": "display_data"
    },
    {
     "data": {
      "application/vnd.jupyter.widget-view+json": {
       "model_id": "90d1eec259344a31811d18b817acadd1",
       "version_major": 2,
       "version_minor": 0
      },
      "text/plain": [
       "Drawing 5000 posterior samples:   0%|          | 0/5000 [00:00<?, ?it/s]"
      ]
     },
     "metadata": {},
     "output_type": "display_data"
    },
    {
     "data": {
      "application/vnd.jupyter.widget-view+json": {
       "model_id": "45cb385183204ab381581b9ea0ce0e4c",
       "version_major": 2,
       "version_minor": 0
      },
      "text/plain": [
       "Drawing 5000 posterior samples:   0%|          | 0/5000 [00:00<?, ?it/s]"
      ]
     },
     "metadata": {},
     "output_type": "display_data"
    },
    {
     "data": {
      "application/vnd.jupyter.widget-view+json": {
       "model_id": "eeaa4622bfd64041a5c8ec81a1b46cb9",
       "version_major": 2,
       "version_minor": 0
      },
      "text/plain": [
       "Drawing 5000 posterior samples:   0%|          | 0/5000 [00:00<?, ?it/s]"
      ]
     },
     "metadata": {},
     "output_type": "display_data"
    },
    {
     "data": {
      "application/vnd.jupyter.widget-view+json": {
       "model_id": "1ac534129a814c2d8e302a0aab715d3c",
       "version_major": 2,
       "version_minor": 0
      },
      "text/plain": [
       "Drawing 5000 posterior samples:   0%|          | 0/5000 [00:00<?, ?it/s]"
      ]
     },
     "metadata": {},
     "output_type": "display_data"
    },
    {
     "data": {
      "application/vnd.jupyter.widget-view+json": {
       "model_id": "d1465d73243b420d9af6ff5b726d8325",
       "version_major": 2,
       "version_minor": 0
      },
      "text/plain": [
       "Drawing 5000 posterior samples:   0%|          | 0/5000 [00:00<?, ?it/s]"
      ]
     },
     "metadata": {},
     "output_type": "display_data"
    },
    {
     "data": {
      "application/vnd.jupyter.widget-view+json": {
       "model_id": "55181ac96b384a8a8b021b0b1eb1a8a4",
       "version_major": 2,
       "version_minor": 0
      },
      "text/plain": [
       "Drawing 5000 posterior samples:   0%|          | 0/5000 [00:00<?, ?it/s]"
      ]
     },
     "metadata": {},
     "output_type": "display_data"
    },
    {
     "data": {
      "application/vnd.jupyter.widget-view+json": {
       "model_id": "c44f8482a11443488dba40a6f08f55a0",
       "version_major": 2,
       "version_minor": 0
      },
      "text/plain": [
       "Drawing 5000 posterior samples:   0%|          | 0/5000 [00:00<?, ?it/s]"
      ]
     },
     "metadata": {},
     "output_type": "display_data"
    },
    {
     "data": {
      "application/vnd.jupyter.widget-view+json": {
       "model_id": "b622493ead304b05b7154be470a694ad",
       "version_major": 2,
       "version_minor": 0
      },
      "text/plain": [
       "Drawing 5000 posterior samples:   0%|          | 0/5000 [00:00<?, ?it/s]"
      ]
     },
     "metadata": {},
     "output_type": "display_data"
    },
    {
     "data": {
      "application/vnd.jupyter.widget-view+json": {
       "model_id": "1b8be1d8513e4e358c1df033662bcb24",
       "version_major": 2,
       "version_minor": 0
      },
      "text/plain": [
       "Drawing 5000 posterior samples:   0%|          | 0/5000 [00:00<?, ?it/s]"
      ]
     },
     "metadata": {},
     "output_type": "display_data"
    },
    {
     "data": {
      "application/vnd.jupyter.widget-view+json": {
       "model_id": "bb2f11f83ca94f45889f24307280cf02",
       "version_major": 2,
       "version_minor": 0
      },
      "text/plain": [
       "Drawing 5000 posterior samples:   0%|          | 0/5000 [00:00<?, ?it/s]"
      ]
     },
     "metadata": {},
     "output_type": "display_data"
    },
    {
     "data": {
      "application/vnd.jupyter.widget-view+json": {
       "model_id": "58df9d1a47c44776b49875d1e99706b5",
       "version_major": 2,
       "version_minor": 0
      },
      "text/plain": [
       "Drawing 5000 posterior samples:   0%|          | 0/5000 [00:00<?, ?it/s]"
      ]
     },
     "metadata": {},
     "output_type": "display_data"
    },
    {
     "data": {
      "application/vnd.jupyter.widget-view+json": {
       "model_id": "9a65ab5d65754656aaf3ff43caa6ca2f",
       "version_major": 2,
       "version_minor": 0
      },
      "text/plain": [
       "Drawing 5000 posterior samples:   0%|          | 0/5000 [00:00<?, ?it/s]"
      ]
     },
     "metadata": {},
     "output_type": "display_data"
    },
    {
     "data": {
      "application/vnd.jupyter.widget-view+json": {
       "model_id": "8b38c2ab8cdc4f22adf0befc44924b62",
       "version_major": 2,
       "version_minor": 0
      },
      "text/plain": [
       "Drawing 5000 posterior samples:   0%|          | 0/5000 [00:00<?, ?it/s]"
      ]
     },
     "metadata": {},
     "output_type": "display_data"
    },
    {
     "data": {
      "application/vnd.jupyter.widget-view+json": {
       "model_id": "5a3f68a367c54edea0fecb8b173accc8",
       "version_major": 2,
       "version_minor": 0
      },
      "text/plain": [
       "Drawing 5000 posterior samples:   0%|          | 0/5000 [00:00<?, ?it/s]"
      ]
     },
     "metadata": {},
     "output_type": "display_data"
    },
    {
     "data": {
      "application/vnd.jupyter.widget-view+json": {
       "model_id": "def0922654f7474cb5aeb17747579d9a",
       "version_major": 2,
       "version_minor": 0
      },
      "text/plain": [
       "Drawing 5000 posterior samples:   0%|          | 0/5000 [00:00<?, ?it/s]"
      ]
     },
     "metadata": {},
     "output_type": "display_data"
    },
    {
     "data": {
      "application/vnd.jupyter.widget-view+json": {
       "model_id": "5270d6a716c0413d84d3d7f32c3dad0a",
       "version_major": 2,
       "version_minor": 0
      },
      "text/plain": [
       "Drawing 5000 posterior samples:   0%|          | 0/5000 [00:00<?, ?it/s]"
      ]
     },
     "metadata": {},
     "output_type": "display_data"
    },
    {
     "data": {
      "application/vnd.jupyter.widget-view+json": {
       "model_id": "68107835dbaf4a6e9c6bfba468103557",
       "version_major": 2,
       "version_minor": 0
      },
      "text/plain": [
       "Drawing 5000 posterior samples:   0%|          | 0/5000 [00:00<?, ?it/s]"
      ]
     },
     "metadata": {},
     "output_type": "display_data"
    },
    {
     "data": {
      "application/vnd.jupyter.widget-view+json": {
       "model_id": "921566b9104c49cab68a0bcbde077d46",
       "version_major": 2,
       "version_minor": 0
      },
      "text/plain": [
       "Drawing 5000 posterior samples:   0%|          | 0/5000 [00:00<?, ?it/s]"
      ]
     },
     "metadata": {},
     "output_type": "display_data"
    },
    {
     "data": {
      "application/vnd.jupyter.widget-view+json": {
       "model_id": "1f209c390eb34e6a92d11d0be5df0808",
       "version_major": 2,
       "version_minor": 0
      },
      "text/plain": [
       "Drawing 5000 posterior samples:   0%|          | 0/5000 [00:00<?, ?it/s]"
      ]
     },
     "metadata": {},
     "output_type": "display_data"
    },
    {
     "data": {
      "application/vnd.jupyter.widget-view+json": {
       "model_id": "38c1f477f2094c61b6cb370d0ab17ec2",
       "version_major": 2,
       "version_minor": 0
      },
      "text/plain": [
       "Drawing 5000 posterior samples:   0%|          | 0/5000 [00:00<?, ?it/s]"
      ]
     },
     "metadata": {},
     "output_type": "display_data"
    },
    {
     "data": {
      "application/vnd.jupyter.widget-view+json": {
       "model_id": "d3246699a09d4020bd2e6a9588061ad3",
       "version_major": 2,
       "version_minor": 0
      },
      "text/plain": [
       "Drawing 5000 posterior samples:   0%|          | 0/5000 [00:00<?, ?it/s]"
      ]
     },
     "metadata": {},
     "output_type": "display_data"
    },
    {
     "data": {
      "application/vnd.jupyter.widget-view+json": {
       "model_id": "e260279a00eb45c8a2598ec948a71962",
       "version_major": 2,
       "version_minor": 0
      },
      "text/plain": [
       "Drawing 5000 posterior samples:   0%|          | 0/5000 [00:00<?, ?it/s]"
      ]
     },
     "metadata": {},
     "output_type": "display_data"
    },
    {
     "data": {
      "application/vnd.jupyter.widget-view+json": {
       "model_id": "fe527cc3c04d4d1a87f3ada54e0ee086",
       "version_major": 2,
       "version_minor": 0
      },
      "text/plain": [
       "Drawing 5000 posterior samples:   0%|          | 0/5000 [00:00<?, ?it/s]"
      ]
     },
     "metadata": {},
     "output_type": "display_data"
    },
    {
     "data": {
      "application/vnd.jupyter.widget-view+json": {
       "model_id": "1ea88b355c1f484cae1691b4b867b724",
       "version_major": 2,
       "version_minor": 0
      },
      "text/plain": [
       "Drawing 5000 posterior samples:   0%|          | 0/5000 [00:00<?, ?it/s]"
      ]
     },
     "metadata": {},
     "output_type": "display_data"
    },
    {
     "data": {
      "application/vnd.jupyter.widget-view+json": {
       "model_id": "ef9f621883f54e8ab82cbaccce89c6f9",
       "version_major": 2,
       "version_minor": 0
      },
      "text/plain": [
       "Drawing 5000 posterior samples:   0%|          | 0/5000 [00:00<?, ?it/s]"
      ]
     },
     "metadata": {},
     "output_type": "display_data"
    },
    {
     "data": {
      "application/vnd.jupyter.widget-view+json": {
       "model_id": "a8eebe540b9e4a4bbdee71abcd78fbd9",
       "version_major": 2,
       "version_minor": 0
      },
      "text/plain": [
       "Drawing 5000 posterior samples:   0%|          | 0/5000 [00:00<?, ?it/s]"
      ]
     },
     "metadata": {},
     "output_type": "display_data"
    },
    {
     "data": {
      "application/vnd.jupyter.widget-view+json": {
       "model_id": "da0642db0f34452b802195eab23831a0",
       "version_major": 2,
       "version_minor": 0
      },
      "text/plain": [
       "Drawing 5000 posterior samples:   0%|          | 0/5000 [00:00<?, ?it/s]"
      ]
     },
     "metadata": {},
     "output_type": "display_data"
    },
    {
     "data": {
      "application/vnd.jupyter.widget-view+json": {
       "model_id": "1d99a61171f246bca0dfce08482d0cc0",
       "version_major": 2,
       "version_minor": 0
      },
      "text/plain": [
       "Drawing 5000 posterior samples:   0%|          | 0/5000 [00:00<?, ?it/s]"
      ]
     },
     "metadata": {},
     "output_type": "display_data"
    },
    {
     "data": {
      "application/vnd.jupyter.widget-view+json": {
       "model_id": "beccff76c527419b92c54248fcf20d23",
       "version_major": 2,
       "version_minor": 0
      },
      "text/plain": [
       "Drawing 5000 posterior samples:   0%|          | 0/5000 [00:00<?, ?it/s]"
      ]
     },
     "metadata": {},
     "output_type": "display_data"
    },
    {
     "data": {
      "application/vnd.jupyter.widget-view+json": {
       "model_id": "c53a170834bd45ae861be0d1bac1fcbf",
       "version_major": 2,
       "version_minor": 0
      },
      "text/plain": [
       "Drawing 5000 posterior samples:   0%|          | 0/5000 [00:00<?, ?it/s]"
      ]
     },
     "metadata": {},
     "output_type": "display_data"
    },
    {
     "data": {
      "application/vnd.jupyter.widget-view+json": {
       "model_id": "41c7e710d80f490497b183c9b64a6b14",
       "version_major": 2,
       "version_minor": 0
      },
      "text/plain": [
       "Drawing 5000 posterior samples:   0%|          | 0/5000 [00:00<?, ?it/s]"
      ]
     },
     "metadata": {},
     "output_type": "display_data"
    },
    {
     "data": {
      "application/vnd.jupyter.widget-view+json": {
       "model_id": "8b2a367252a34bb280e7a33ba49a898d",
       "version_major": 2,
       "version_minor": 0
      },
      "text/plain": [
       "Drawing 5000 posterior samples:   0%|          | 0/5000 [00:00<?, ?it/s]"
      ]
     },
     "metadata": {},
     "output_type": "display_data"
    },
    {
     "data": {
      "application/vnd.jupyter.widget-view+json": {
       "model_id": "b284148f01764450a78f3f8f3ba1bce5",
       "version_major": 2,
       "version_minor": 0
      },
      "text/plain": [
       "Drawing 5000 posterior samples:   0%|          | 0/5000 [00:00<?, ?it/s]"
      ]
     },
     "metadata": {},
     "output_type": "display_data"
    },
    {
     "data": {
      "application/vnd.jupyter.widget-view+json": {
       "model_id": "94a8b4d9a63d4b7486c3d59fa26263ed",
       "version_major": 2,
       "version_minor": 0
      },
      "text/plain": [
       "Drawing 5000 posterior samples:   0%|          | 0/5000 [00:00<?, ?it/s]"
      ]
     },
     "metadata": {},
     "output_type": "display_data"
    },
    {
     "data": {
      "application/vnd.jupyter.widget-view+json": {
       "model_id": "d01f5f8958a145a6a8ea79e7f7857429",
       "version_major": 2,
       "version_minor": 0
      },
      "text/plain": [
       "Drawing 5000 posterior samples:   0%|          | 0/5000 [00:00<?, ?it/s]"
      ]
     },
     "metadata": {},
     "output_type": "display_data"
    },
    {
     "data": {
      "application/vnd.jupyter.widget-view+json": {
       "model_id": "20b3230077234114b10ddacad40f491e",
       "version_major": 2,
       "version_minor": 0
      },
      "text/plain": [
       "Drawing 5000 posterior samples:   0%|          | 0/5000 [00:00<?, ?it/s]"
      ]
     },
     "metadata": {},
     "output_type": "display_data"
    },
    {
     "data": {
      "application/vnd.jupyter.widget-view+json": {
       "model_id": "4edf1a05b1344788a853ece4a8435400",
       "version_major": 2,
       "version_minor": 0
      },
      "text/plain": [
       "Drawing 5000 posterior samples:   0%|          | 0/5000 [00:00<?, ?it/s]"
      ]
     },
     "metadata": {},
     "output_type": "display_data"
    },
    {
     "data": {
      "application/vnd.jupyter.widget-view+json": {
       "model_id": "dc6a1f4ba0ad4d0eaa5b86e48ddab86f",
       "version_major": 2,
       "version_minor": 0
      },
      "text/plain": [
       "Drawing 5000 posterior samples:   0%|          | 0/5000 [00:00<?, ?it/s]"
      ]
     },
     "metadata": {},
     "output_type": "display_data"
    },
    {
     "data": {
      "application/vnd.jupyter.widget-view+json": {
       "model_id": "84d63c1a651e42499051bc30c6ecf025",
       "version_major": 2,
       "version_minor": 0
      },
      "text/plain": [
       "Drawing 5000 posterior samples:   0%|          | 0/5000 [00:00<?, ?it/s]"
      ]
     },
     "metadata": {},
     "output_type": "display_data"
    },
    {
     "data": {
      "application/vnd.jupyter.widget-view+json": {
       "model_id": "a40c7531aada4a109c29b4df55fdb7ea",
       "version_major": 2,
       "version_minor": 0
      },
      "text/plain": [
       "Drawing 5000 posterior samples:   0%|          | 0/5000 [00:00<?, ?it/s]"
      ]
     },
     "metadata": {},
     "output_type": "display_data"
    },
    {
     "data": {
      "application/vnd.jupyter.widget-view+json": {
       "model_id": "93578432d123430db7799ae5a47e184b",
       "version_major": 2,
       "version_minor": 0
      },
      "text/plain": [
       "Drawing 5000 posterior samples:   0%|          | 0/5000 [00:00<?, ?it/s]"
      ]
     },
     "metadata": {},
     "output_type": "display_data"
    },
    {
     "data": {
      "application/vnd.jupyter.widget-view+json": {
       "model_id": "5c1aa9dbbd8d4c259d2e8cbf7a12d91e",
       "version_major": 2,
       "version_minor": 0
      },
      "text/plain": [
       "Drawing 5000 posterior samples:   0%|          | 0/5000 [00:00<?, ?it/s]"
      ]
     },
     "metadata": {},
     "output_type": "display_data"
    },
    {
     "data": {
      "application/vnd.jupyter.widget-view+json": {
       "model_id": "7dd43c4961c6432d97ebdde0dc1edefb",
       "version_major": 2,
       "version_minor": 0
      },
      "text/plain": [
       "Drawing 5000 posterior samples:   0%|          | 0/5000 [00:00<?, ?it/s]"
      ]
     },
     "metadata": {},
     "output_type": "display_data"
    },
    {
     "data": {
      "application/vnd.jupyter.widget-view+json": {
       "model_id": "8336a289d9944b088ababf0f1cce4ad2",
       "version_major": 2,
       "version_minor": 0
      },
      "text/plain": [
       "Drawing 5000 posterior samples:   0%|          | 0/5000 [00:00<?, ?it/s]"
      ]
     },
     "metadata": {},
     "output_type": "display_data"
    },
    {
     "data": {
      "application/vnd.jupyter.widget-view+json": {
       "model_id": "519b86960b25427f8feed7911a6aa54c",
       "version_major": 2,
       "version_minor": 0
      },
      "text/plain": [
       "Drawing 5000 posterior samples:   0%|          | 0/5000 [00:00<?, ?it/s]"
      ]
     },
     "metadata": {},
     "output_type": "display_data"
    },
    {
     "data": {
      "application/vnd.jupyter.widget-view+json": {
       "model_id": "392a1a494f744cd1a6fa9aa6d4c56095",
       "version_major": 2,
       "version_minor": 0
      },
      "text/plain": [
       "Drawing 5000 posterior samples:   0%|          | 0/5000 [00:00<?, ?it/s]"
      ]
     },
     "metadata": {},
     "output_type": "display_data"
    },
    {
     "data": {
      "application/vnd.jupyter.widget-view+json": {
       "model_id": "29b64aa8f4e94306bd9d573b768d01fa",
       "version_major": 2,
       "version_minor": 0
      },
      "text/plain": [
       "Drawing 5000 posterior samples:   0%|          | 0/5000 [00:00<?, ?it/s]"
      ]
     },
     "metadata": {},
     "output_type": "display_data"
    },
    {
     "data": {
      "application/vnd.jupyter.widget-view+json": {
       "model_id": "ae3739146e8f470983dd7c44ce710d5f",
       "version_major": 2,
       "version_minor": 0
      },
      "text/plain": [
       "Drawing 5000 posterior samples:   0%|          | 0/5000 [00:00<?, ?it/s]"
      ]
     },
     "metadata": {},
     "output_type": "display_data"
    },
    {
     "data": {
      "application/vnd.jupyter.widget-view+json": {
       "model_id": "fb4b70343da342f49bc1e09aaa36db88",
       "version_major": 2,
       "version_minor": 0
      },
      "text/plain": [
       "Drawing 5000 posterior samples:   0%|          | 0/5000 [00:00<?, ?it/s]"
      ]
     },
     "metadata": {},
     "output_type": "display_data"
    },
    {
     "data": {
      "application/vnd.jupyter.widget-view+json": {
       "model_id": "0011ff5e0f544c899dddb55a38902390",
       "version_major": 2,
       "version_minor": 0
      },
      "text/plain": [
       "Drawing 5000 posterior samples:   0%|          | 0/5000 [00:00<?, ?it/s]"
      ]
     },
     "metadata": {},
     "output_type": "display_data"
    },
    {
     "data": {
      "application/vnd.jupyter.widget-view+json": {
       "model_id": "502e035bd2994147a399b726ad8c7164",
       "version_major": 2,
       "version_minor": 0
      },
      "text/plain": [
       "Drawing 5000 posterior samples:   0%|          | 0/5000 [00:00<?, ?it/s]"
      ]
     },
     "metadata": {},
     "output_type": "display_data"
    },
    {
     "data": {
      "application/vnd.jupyter.widget-view+json": {
       "model_id": "094c4e5e9f3547b187f43b72648e32fb",
       "version_major": 2,
       "version_minor": 0
      },
      "text/plain": [
       "Drawing 5000 posterior samples:   0%|          | 0/5000 [00:00<?, ?it/s]"
      ]
     },
     "metadata": {},
     "output_type": "display_data"
    },
    {
     "data": {
      "application/vnd.jupyter.widget-view+json": {
       "model_id": "543a64e6ad6949bdb3682eedd73a2be0",
       "version_major": 2,
       "version_minor": 0
      },
      "text/plain": [
       "Drawing 5000 posterior samples:   0%|          | 0/5000 [00:00<?, ?it/s]"
      ]
     },
     "metadata": {},
     "output_type": "display_data"
    },
    {
     "data": {
      "application/vnd.jupyter.widget-view+json": {
       "model_id": "3ccdb2f6de6e414d9db9c01924f7b1d4",
       "version_major": 2,
       "version_minor": 0
      },
      "text/plain": [
       "Drawing 5000 posterior samples:   0%|          | 0/5000 [00:00<?, ?it/s]"
      ]
     },
     "metadata": {},
     "output_type": "display_data"
    },
    {
     "data": {
      "application/vnd.jupyter.widget-view+json": {
       "model_id": "95e0c7c017e74ae19d647c776e3e0082",
       "version_major": 2,
       "version_minor": 0
      },
      "text/plain": [
       "Drawing 5000 posterior samples:   0%|          | 0/5000 [00:00<?, ?it/s]"
      ]
     },
     "metadata": {},
     "output_type": "display_data"
    },
    {
     "data": {
      "application/vnd.jupyter.widget-view+json": {
       "model_id": "7668e7adb0fa491599e3f73be522d6f8",
       "version_major": 2,
       "version_minor": 0
      },
      "text/plain": [
       "Drawing 5000 posterior samples:   0%|          | 0/5000 [00:00<?, ?it/s]"
      ]
     },
     "metadata": {},
     "output_type": "display_data"
    },
    {
     "data": {
      "application/vnd.jupyter.widget-view+json": {
       "model_id": "fda790e7d4fc439f8d3d44ff6115cc46",
       "version_major": 2,
       "version_minor": 0
      },
      "text/plain": [
       "Drawing 5000 posterior samples:   0%|          | 0/5000 [00:00<?, ?it/s]"
      ]
     },
     "metadata": {},
     "output_type": "display_data"
    },
    {
     "data": {
      "application/vnd.jupyter.widget-view+json": {
       "model_id": "13610473f67e4e40bb3edd969ee72f88",
       "version_major": 2,
       "version_minor": 0
      },
      "text/plain": [
       "Drawing 5000 posterior samples:   0%|          | 0/5000 [00:00<?, ?it/s]"
      ]
     },
     "metadata": {},
     "output_type": "display_data"
    },
    {
     "data": {
      "application/vnd.jupyter.widget-view+json": {
       "model_id": "fa3efac7ef164a508354bd01276a6d12",
       "version_major": 2,
       "version_minor": 0
      },
      "text/plain": [
       "Drawing 5000 posterior samples:   0%|          | 0/5000 [00:00<?, ?it/s]"
      ]
     },
     "metadata": {},
     "output_type": "display_data"
    },
    {
     "data": {
      "application/vnd.jupyter.widget-view+json": {
       "model_id": "12024c4af6b84e818510e6dd8c814ef0",
       "version_major": 2,
       "version_minor": 0
      },
      "text/plain": [
       "Drawing 5000 posterior samples:   0%|          | 0/5000 [00:00<?, ?it/s]"
      ]
     },
     "metadata": {},
     "output_type": "display_data"
    },
    {
     "data": {
      "application/vnd.jupyter.widget-view+json": {
       "model_id": "7d85a18acafb4a969d151469fdde31ec",
       "version_major": 2,
       "version_minor": 0
      },
      "text/plain": [
       "Drawing 5000 posterior samples:   0%|          | 0/5000 [00:00<?, ?it/s]"
      ]
     },
     "metadata": {},
     "output_type": "display_data"
    },
    {
     "data": {
      "application/vnd.jupyter.widget-view+json": {
       "model_id": "feb0f3be8f9c42c6a4eb407da7a80f6e",
       "version_major": 2,
       "version_minor": 0
      },
      "text/plain": [
       "Drawing 5000 posterior samples:   0%|          | 0/5000 [00:00<?, ?it/s]"
      ]
     },
     "metadata": {},
     "output_type": "display_data"
    },
    {
     "data": {
      "application/vnd.jupyter.widget-view+json": {
       "model_id": "0e59a57e2b2a490198cbb2acdac5c6d4",
       "version_major": 2,
       "version_minor": 0
      },
      "text/plain": [
       "Drawing 5000 posterior samples:   0%|          | 0/5000 [00:00<?, ?it/s]"
      ]
     },
     "metadata": {},
     "output_type": "display_data"
    },
    {
     "data": {
      "application/vnd.jupyter.widget-view+json": {
       "model_id": "5176d7d9b0fe4b63a174b0c4aa984f73",
       "version_major": 2,
       "version_minor": 0
      },
      "text/plain": [
       "Drawing 5000 posterior samples:   0%|          | 0/5000 [00:00<?, ?it/s]"
      ]
     },
     "metadata": {},
     "output_type": "display_data"
    },
    {
     "data": {
      "application/vnd.jupyter.widget-view+json": {
       "model_id": "db15e148cd844ac8bd1b8a71fa709a26",
       "version_major": 2,
       "version_minor": 0
      },
      "text/plain": [
       "Drawing 5000 posterior samples:   0%|          | 0/5000 [00:00<?, ?it/s]"
      ]
     },
     "metadata": {},
     "output_type": "display_data"
    },
    {
     "data": {
      "application/vnd.jupyter.widget-view+json": {
       "model_id": "112e5bf5a14f4713ad42fadd8f059802",
       "version_major": 2,
       "version_minor": 0
      },
      "text/plain": [
       "Drawing 5000 posterior samples:   0%|          | 0/5000 [00:00<?, ?it/s]"
      ]
     },
     "metadata": {},
     "output_type": "display_data"
    },
    {
     "data": {
      "application/vnd.jupyter.widget-view+json": {
       "model_id": "e5f637043f8d4d568c38795823aea7ae",
       "version_major": 2,
       "version_minor": 0
      },
      "text/plain": [
       "Drawing 5000 posterior samples:   0%|          | 0/5000 [00:00<?, ?it/s]"
      ]
     },
     "metadata": {},
     "output_type": "display_data"
    },
    {
     "data": {
      "application/vnd.jupyter.widget-view+json": {
       "model_id": "ecd71455542248f3b20a093794e7e91e",
       "version_major": 2,
       "version_minor": 0
      },
      "text/plain": [
       "Drawing 5000 posterior samples:   0%|          | 0/5000 [00:00<?, ?it/s]"
      ]
     },
     "metadata": {},
     "output_type": "display_data"
    },
    {
     "data": {
      "application/vnd.jupyter.widget-view+json": {
       "model_id": "60cad21bf8c1458eacab2f691ca4f451",
       "version_major": 2,
       "version_minor": 0
      },
      "text/plain": [
       "Drawing 5000 posterior samples:   0%|          | 0/5000 [00:00<?, ?it/s]"
      ]
     },
     "metadata": {},
     "output_type": "display_data"
    },
    {
     "data": {
      "application/vnd.jupyter.widget-view+json": {
       "model_id": "64308c8ab22e4d7cb32c756b6e94bbd9",
       "version_major": 2,
       "version_minor": 0
      },
      "text/plain": [
       "Drawing 5000 posterior samples:   0%|          | 0/5000 [00:00<?, ?it/s]"
      ]
     },
     "metadata": {},
     "output_type": "display_data"
    },
    {
     "data": {
      "application/vnd.jupyter.widget-view+json": {
       "model_id": "a8a9daa33b714c04b531d263a1780bc6",
       "version_major": 2,
       "version_minor": 0
      },
      "text/plain": [
       "Drawing 5000 posterior samples:   0%|          | 0/5000 [00:00<?, ?it/s]"
      ]
     },
     "metadata": {},
     "output_type": "display_data"
    },
    {
     "data": {
      "application/vnd.jupyter.widget-view+json": {
       "model_id": "1341433cc83a4afa972bd11870852e2f",
       "version_major": 2,
       "version_minor": 0
      },
      "text/plain": [
       "Drawing 5000 posterior samples:   0%|          | 0/5000 [00:00<?, ?it/s]"
      ]
     },
     "metadata": {},
     "output_type": "display_data"
    },
    {
     "data": {
      "application/vnd.jupyter.widget-view+json": {
       "model_id": "6aca136ab71146109da94e859f5ff911",
       "version_major": 2,
       "version_minor": 0
      },
      "text/plain": [
       "Drawing 5000 posterior samples:   0%|          | 0/5000 [00:00<?, ?it/s]"
      ]
     },
     "metadata": {},
     "output_type": "display_data"
    },
    {
     "data": {
      "application/vnd.jupyter.widget-view+json": {
       "model_id": "87ea69ddff3141cea2fbfaefa553900d",
       "version_major": 2,
       "version_minor": 0
      },
      "text/plain": [
       "Drawing 5000 posterior samples:   0%|          | 0/5000 [00:00<?, ?it/s]"
      ]
     },
     "metadata": {},
     "output_type": "display_data"
    },
    {
     "data": {
      "application/vnd.jupyter.widget-view+json": {
       "model_id": "8293439fca9d4306bbe74e7ec9210d87",
       "version_major": 2,
       "version_minor": 0
      },
      "text/plain": [
       "Drawing 5000 posterior samples:   0%|          | 0/5000 [00:00<?, ?it/s]"
      ]
     },
     "metadata": {},
     "output_type": "display_data"
    },
    {
     "data": {
      "application/vnd.jupyter.widget-view+json": {
       "model_id": "07497859a15e42d38769e42823e29bc5",
       "version_major": 2,
       "version_minor": 0
      },
      "text/plain": [
       "Drawing 5000 posterior samples:   0%|          | 0/5000 [00:00<?, ?it/s]"
      ]
     },
     "metadata": {},
     "output_type": "display_data"
    },
    {
     "data": {
      "application/vnd.jupyter.widget-view+json": {
       "model_id": "b0a9ec85b1a54b878a0f3a214e22ec71",
       "version_major": 2,
       "version_minor": 0
      },
      "text/plain": [
       "Drawing 5000 posterior samples:   0%|          | 0/5000 [00:00<?, ?it/s]"
      ]
     },
     "metadata": {},
     "output_type": "display_data"
    },
    {
     "data": {
      "application/vnd.jupyter.widget-view+json": {
       "model_id": "f607b47009e04d648521e5a4c1c38dd9",
       "version_major": 2,
       "version_minor": 0
      },
      "text/plain": [
       "Drawing 5000 posterior samples:   0%|          | 0/5000 [00:00<?, ?it/s]"
      ]
     },
     "metadata": {},
     "output_type": "display_data"
    },
    {
     "data": {
      "application/vnd.jupyter.widget-view+json": {
       "model_id": "f9ee051551534147a8c0c17bf24302c6",
       "version_major": 2,
       "version_minor": 0
      },
      "text/plain": [
       "Drawing 5000 posterior samples:   0%|          | 0/5000 [00:00<?, ?it/s]"
      ]
     },
     "metadata": {},
     "output_type": "display_data"
    },
    {
     "data": {
      "application/vnd.jupyter.widget-view+json": {
       "model_id": "f2e273e5ac0b47569f3c31425b88a79e",
       "version_major": 2,
       "version_minor": 0
      },
      "text/plain": [
       "Drawing 5000 posterior samples:   0%|          | 0/5000 [00:00<?, ?it/s]"
      ]
     },
     "metadata": {},
     "output_type": "display_data"
    },
    {
     "data": {
      "application/vnd.jupyter.widget-view+json": {
       "model_id": "e083f4c624594481842c488653f1e703",
       "version_major": 2,
       "version_minor": 0
      },
      "text/plain": [
       "Drawing 5000 posterior samples:   0%|          | 0/5000 [00:00<?, ?it/s]"
      ]
     },
     "metadata": {},
     "output_type": "display_data"
    },
    {
     "data": {
      "application/vnd.jupyter.widget-view+json": {
       "model_id": "e48e3f82dc06478a94df51b6f10aaf60",
       "version_major": 2,
       "version_minor": 0
      },
      "text/plain": [
       "Drawing 5000 posterior samples:   0%|          | 0/5000 [00:00<?, ?it/s]"
      ]
     },
     "metadata": {},
     "output_type": "display_data"
    },
    {
     "data": {
      "application/vnd.jupyter.widget-view+json": {
       "model_id": "3379c68923164d8db789779c9fca4fd8",
       "version_major": 2,
       "version_minor": 0
      },
      "text/plain": [
       "Drawing 5000 posterior samples:   0%|          | 0/5000 [00:00<?, ?it/s]"
      ]
     },
     "metadata": {},
     "output_type": "display_data"
    },
    {
     "data": {
      "application/vnd.jupyter.widget-view+json": {
       "model_id": "cec725a6608648b68c23fe62043a5dfa",
       "version_major": 2,
       "version_minor": 0
      },
      "text/plain": [
       "Drawing 5000 posterior samples:   0%|          | 0/5000 [00:00<?, ?it/s]"
      ]
     },
     "metadata": {},
     "output_type": "display_data"
    },
    {
     "data": {
      "application/vnd.jupyter.widget-view+json": {
       "model_id": "779bb91ce5864ce59b4fd81bebab5266",
       "version_major": 2,
       "version_minor": 0
      },
      "text/plain": [
       "Drawing 5000 posterior samples:   0%|          | 0/5000 [00:00<?, ?it/s]"
      ]
     },
     "metadata": {},
     "output_type": "display_data"
    },
    {
     "data": {
      "application/vnd.jupyter.widget-view+json": {
       "model_id": "cd3d17abda8c4bada3169feffba19035",
       "version_major": 2,
       "version_minor": 0
      },
      "text/plain": [
       "Drawing 5000 posterior samples:   0%|          | 0/5000 [00:00<?, ?it/s]"
      ]
     },
     "metadata": {},
     "output_type": "display_data"
    },
    {
     "data": {
      "application/vnd.jupyter.widget-view+json": {
       "model_id": "4af0b875e37a4d7e8bb45c9e4af5a6ad",
       "version_major": 2,
       "version_minor": 0
      },
      "text/plain": [
       "Drawing 5000 posterior samples:   0%|          | 0/5000 [00:00<?, ?it/s]"
      ]
     },
     "metadata": {},
     "output_type": "display_data"
    },
    {
     "data": {
      "application/vnd.jupyter.widget-view+json": {
       "model_id": "570a014f383b4071a35e41e32a85beb4",
       "version_major": 2,
       "version_minor": 0
      },
      "text/plain": [
       "Drawing 5000 posterior samples:   0%|          | 0/5000 [00:00<?, ?it/s]"
      ]
     },
     "metadata": {},
     "output_type": "display_data"
    },
    {
     "data": {
      "application/vnd.jupyter.widget-view+json": {
       "model_id": "b132e5ec1202497da3ac653f9cfac6ea",
       "version_major": 2,
       "version_minor": 0
      },
      "text/plain": [
       "Drawing 5000 posterior samples:   0%|          | 0/5000 [00:00<?, ?it/s]"
      ]
     },
     "metadata": {},
     "output_type": "display_data"
    },
    {
     "data": {
      "application/vnd.jupyter.widget-view+json": {
       "model_id": "25f7af03aa6e4d1c8a74097ce4f67d19",
       "version_major": 2,
       "version_minor": 0
      },
      "text/plain": [
       "Drawing 5000 posterior samples:   0%|          | 0/5000 [00:00<?, ?it/s]"
      ]
     },
     "metadata": {},
     "output_type": "display_data"
    },
    {
     "data": {
      "application/vnd.jupyter.widget-view+json": {
       "model_id": "e3126e87e6044fd2a432f976d5fe98a4",
       "version_major": 2,
       "version_minor": 0
      },
      "text/plain": [
       "Drawing 5000 posterior samples:   0%|          | 0/5000 [00:00<?, ?it/s]"
      ]
     },
     "metadata": {},
     "output_type": "display_data"
    },
    {
     "data": {
      "application/vnd.jupyter.widget-view+json": {
       "model_id": "c8f9afa2fd1248e4927fefd0339ee648",
       "version_major": 2,
       "version_minor": 0
      },
      "text/plain": [
       "Drawing 5000 posterior samples:   0%|          | 0/5000 [00:00<?, ?it/s]"
      ]
     },
     "metadata": {},
     "output_type": "display_data"
    },
    {
     "data": {
      "application/vnd.jupyter.widget-view+json": {
       "model_id": "1a14a0069670431fb7d2187623c6197c",
       "version_major": 2,
       "version_minor": 0
      },
      "text/plain": [
       "Drawing 5000 posterior samples:   0%|          | 0/5000 [00:00<?, ?it/s]"
      ]
     },
     "metadata": {},
     "output_type": "display_data"
    },
    {
     "data": {
      "application/vnd.jupyter.widget-view+json": {
       "model_id": "53296356e0ba4c75bfd89284a3099400",
       "version_major": 2,
       "version_minor": 0
      },
      "text/plain": [
       "Drawing 5000 posterior samples:   0%|          | 0/5000 [00:00<?, ?it/s]"
      ]
     },
     "metadata": {},
     "output_type": "display_data"
    },
    {
     "data": {
      "application/vnd.jupyter.widget-view+json": {
       "model_id": "d362dbbe48e74a14952e691a9aac4f4c",
       "version_major": 2,
       "version_minor": 0
      },
      "text/plain": [
       "Drawing 5000 posterior samples:   0%|          | 0/5000 [00:00<?, ?it/s]"
      ]
     },
     "metadata": {},
     "output_type": "display_data"
    },
    {
     "data": {
      "application/vnd.jupyter.widget-view+json": {
       "model_id": "902f139796764d4d9c76a72badebf7e8",
       "version_major": 2,
       "version_minor": 0
      },
      "text/plain": [
       "Drawing 5000 posterior samples:   0%|          | 0/5000 [00:00<?, ?it/s]"
      ]
     },
     "metadata": {},
     "output_type": "display_data"
    },
    {
     "data": {
      "application/vnd.jupyter.widget-view+json": {
       "model_id": "f2d775213e3844729eb159235c93da77",
       "version_major": 2,
       "version_minor": 0
      },
      "text/plain": [
       "Drawing 5000 posterior samples:   0%|          | 0/5000 [00:00<?, ?it/s]"
      ]
     },
     "metadata": {},
     "output_type": "display_data"
    },
    {
     "data": {
      "application/vnd.jupyter.widget-view+json": {
       "model_id": "d7421aca03ee4797ac1d1783432340b6",
       "version_major": 2,
       "version_minor": 0
      },
      "text/plain": [
       "Drawing 5000 posterior samples:   0%|          | 0/5000 [00:00<?, ?it/s]"
      ]
     },
     "metadata": {},
     "output_type": "display_data"
    },
    {
     "data": {
      "application/vnd.jupyter.widget-view+json": {
       "model_id": "8fa79cae01894dfa98321e96bda12089",
       "version_major": 2,
       "version_minor": 0
      },
      "text/plain": [
       "Drawing 5000 posterior samples:   0%|          | 0/5000 [00:00<?, ?it/s]"
      ]
     },
     "metadata": {},
     "output_type": "display_data"
    },
    {
     "data": {
      "application/vnd.jupyter.widget-view+json": {
       "model_id": "7d5bd892bbfe4f29b80f27fe3e88a757",
       "version_major": 2,
       "version_minor": 0
      },
      "text/plain": [
       "Drawing 5000 posterior samples:   0%|          | 0/5000 [00:00<?, ?it/s]"
      ]
     },
     "metadata": {},
     "output_type": "display_data"
    },
    {
     "data": {
      "application/vnd.jupyter.widget-view+json": {
       "model_id": "3031248d4d5b48a68b117fbe8aab5c36",
       "version_major": 2,
       "version_minor": 0
      },
      "text/plain": [
       "Drawing 5000 posterior samples:   0%|          | 0/5000 [00:00<?, ?it/s]"
      ]
     },
     "metadata": {},
     "output_type": "display_data"
    },
    {
     "data": {
      "application/vnd.jupyter.widget-view+json": {
       "model_id": "3a491b334d24465b9821e31b0d445c73",
       "version_major": 2,
       "version_minor": 0
      },
      "text/plain": [
       "Drawing 5000 posterior samples:   0%|          | 0/5000 [00:00<?, ?it/s]"
      ]
     },
     "metadata": {},
     "output_type": "display_data"
    },
    {
     "data": {
      "application/vnd.jupyter.widget-view+json": {
       "model_id": "ad6a7ea831fa4f30aa42b419b8a384d1",
       "version_major": 2,
       "version_minor": 0
      },
      "text/plain": [
       "Drawing 5000 posterior samples:   0%|          | 0/5000 [00:00<?, ?it/s]"
      ]
     },
     "metadata": {},
     "output_type": "display_data"
    },
    {
     "data": {
      "application/vnd.jupyter.widget-view+json": {
       "model_id": "795fda72aa794365b09675c9c1569482",
       "version_major": 2,
       "version_minor": 0
      },
      "text/plain": [
       "Drawing 5000 posterior samples:   0%|          | 0/5000 [00:00<?, ?it/s]"
      ]
     },
     "metadata": {},
     "output_type": "display_data"
    },
    {
     "data": {
      "application/vnd.jupyter.widget-view+json": {
       "model_id": "cf58cce342404da5ac7c9c5d12efee2e",
       "version_major": 2,
       "version_minor": 0
      },
      "text/plain": [
       "Drawing 5000 posterior samples:   0%|          | 0/5000 [00:00<?, ?it/s]"
      ]
     },
     "metadata": {},
     "output_type": "display_data"
    },
    {
     "data": {
      "application/vnd.jupyter.widget-view+json": {
       "model_id": "a0ed2f13ade64c1d932ea127cbd4d063",
       "version_major": 2,
       "version_minor": 0
      },
      "text/plain": [
       "Drawing 5000 posterior samples:   0%|          | 0/5000 [00:00<?, ?it/s]"
      ]
     },
     "metadata": {},
     "output_type": "display_data"
    },
    {
     "data": {
      "application/vnd.jupyter.widget-view+json": {
       "model_id": "cfba90c987634f49bd7b68a41a98ea68",
       "version_major": 2,
       "version_minor": 0
      },
      "text/plain": [
       "Drawing 5000 posterior samples:   0%|          | 0/5000 [00:00<?, ?it/s]"
      ]
     },
     "metadata": {},
     "output_type": "display_data"
    },
    {
     "data": {
      "application/vnd.jupyter.widget-view+json": {
       "model_id": "dc7076d9c7ad4e7fb7f237f59436633b",
       "version_major": 2,
       "version_minor": 0
      },
      "text/plain": [
       "Drawing 5000 posterior samples:   0%|          | 0/5000 [00:00<?, ?it/s]"
      ]
     },
     "metadata": {},
     "output_type": "display_data"
    },
    {
     "data": {
      "application/vnd.jupyter.widget-view+json": {
       "model_id": "5872de24ce5f4dcc8ae055ec79701b1d",
       "version_major": 2,
       "version_minor": 0
      },
      "text/plain": [
       "Drawing 5000 posterior samples:   0%|          | 0/5000 [00:00<?, ?it/s]"
      ]
     },
     "metadata": {},
     "output_type": "display_data"
    },
    {
     "data": {
      "application/vnd.jupyter.widget-view+json": {
       "model_id": "1f63ddade1754820b977cb5557a2d55c",
       "version_major": 2,
       "version_minor": 0
      },
      "text/plain": [
       "Drawing 5000 posterior samples:   0%|          | 0/5000 [00:00<?, ?it/s]"
      ]
     },
     "metadata": {},
     "output_type": "display_data"
    },
    {
     "data": {
      "application/vnd.jupyter.widget-view+json": {
       "model_id": "3109d61738474a4fbdef624c61014cc9",
       "version_major": 2,
       "version_minor": 0
      },
      "text/plain": [
       "Drawing 5000 posterior samples:   0%|          | 0/5000 [00:00<?, ?it/s]"
      ]
     },
     "metadata": {},
     "output_type": "display_data"
    },
    {
     "data": {
      "application/vnd.jupyter.widget-view+json": {
       "model_id": "a75d85bab6cb45298fb4fc4a96280a55",
       "version_major": 2,
       "version_minor": 0
      },
      "text/plain": [
       "Drawing 5000 posterior samples:   0%|          | 0/5000 [00:00<?, ?it/s]"
      ]
     },
     "metadata": {},
     "output_type": "display_data"
    },
    {
     "data": {
      "application/vnd.jupyter.widget-view+json": {
       "model_id": "384267c5ed4d4791aff5d10e9a658db9",
       "version_major": 2,
       "version_minor": 0
      },
      "text/plain": [
       "Drawing 5000 posterior samples:   0%|          | 0/5000 [00:00<?, ?it/s]"
      ]
     },
     "metadata": {},
     "output_type": "display_data"
    },
    {
     "data": {
      "application/vnd.jupyter.widget-view+json": {
       "model_id": "55468dd6bd67490881599ee264b6980c",
       "version_major": 2,
       "version_minor": 0
      },
      "text/plain": [
       "Drawing 5000 posterior samples:   0%|          | 0/5000 [00:00<?, ?it/s]"
      ]
     },
     "metadata": {},
     "output_type": "display_data"
    },
    {
     "data": {
      "application/vnd.jupyter.widget-view+json": {
       "model_id": "7078478f62c6435ab57e636d48a52cb7",
       "version_major": 2,
       "version_minor": 0
      },
      "text/plain": [
       "Drawing 5000 posterior samples:   0%|          | 0/5000 [00:00<?, ?it/s]"
      ]
     },
     "metadata": {},
     "output_type": "display_data"
    },
    {
     "data": {
      "application/vnd.jupyter.widget-view+json": {
       "model_id": "9cc5034f0acd401885c4ae5ce4b4d709",
       "version_major": 2,
       "version_minor": 0
      },
      "text/plain": [
       "Drawing 5000 posterior samples:   0%|          | 0/5000 [00:00<?, ?it/s]"
      ]
     },
     "metadata": {},
     "output_type": "display_data"
    },
    {
     "data": {
      "application/vnd.jupyter.widget-view+json": {
       "model_id": "fd365455841f434eb42c54306e2b796c",
       "version_major": 2,
       "version_minor": 0
      },
      "text/plain": [
       "Drawing 5000 posterior samples:   0%|          | 0/5000 [00:00<?, ?it/s]"
      ]
     },
     "metadata": {},
     "output_type": "display_data"
    },
    {
     "data": {
      "application/vnd.jupyter.widget-view+json": {
       "model_id": "3885db66a5254fb8b82d091dcd19a668",
       "version_major": 2,
       "version_minor": 0
      },
      "text/plain": [
       "Drawing 5000 posterior samples:   0%|          | 0/5000 [00:00<?, ?it/s]"
      ]
     },
     "metadata": {},
     "output_type": "display_data"
    },
    {
     "data": {
      "application/vnd.jupyter.widget-view+json": {
       "model_id": "0dcb20a936dc4037b4f876d52dc24ec2",
       "version_major": 2,
       "version_minor": 0
      },
      "text/plain": [
       "Drawing 5000 posterior samples:   0%|          | 0/5000 [00:00<?, ?it/s]"
      ]
     },
     "metadata": {},
     "output_type": "display_data"
    },
    {
     "data": {
      "application/vnd.jupyter.widget-view+json": {
       "model_id": "6446cdd065f64228afd7057592e0b8b9",
       "version_major": 2,
       "version_minor": 0
      },
      "text/plain": [
       "Drawing 5000 posterior samples:   0%|          | 0/5000 [00:00<?, ?it/s]"
      ]
     },
     "metadata": {},
     "output_type": "display_data"
    },
    {
     "data": {
      "application/vnd.jupyter.widget-view+json": {
       "model_id": "bc5e484fa13444abb8163492b59c8d0c",
       "version_major": 2,
       "version_minor": 0
      },
      "text/plain": [
       "Drawing 5000 posterior samples:   0%|          | 0/5000 [00:00<?, ?it/s]"
      ]
     },
     "metadata": {},
     "output_type": "display_data"
    },
    {
     "data": {
      "application/vnd.jupyter.widget-view+json": {
       "model_id": "920c111a98e6471fa481416fc05f0df7",
       "version_major": 2,
       "version_minor": 0
      },
      "text/plain": [
       "Drawing 5000 posterior samples:   0%|          | 0/5000 [00:00<?, ?it/s]"
      ]
     },
     "metadata": {},
     "output_type": "display_data"
    },
    {
     "data": {
      "application/vnd.jupyter.widget-view+json": {
       "model_id": "b074999eff354dfabc8a914a572a1a2a",
       "version_major": 2,
       "version_minor": 0
      },
      "text/plain": [
       "Drawing 5000 posterior samples:   0%|          | 0/5000 [00:00<?, ?it/s]"
      ]
     },
     "metadata": {},
     "output_type": "display_data"
    },
    {
     "data": {
      "application/vnd.jupyter.widget-view+json": {
       "model_id": "6bc6c50292da407a8a476b83caec7a1c",
       "version_major": 2,
       "version_minor": 0
      },
      "text/plain": [
       "Drawing 5000 posterior samples:   0%|          | 0/5000 [00:00<?, ?it/s]"
      ]
     },
     "metadata": {},
     "output_type": "display_data"
    },
    {
     "data": {
      "application/vnd.jupyter.widget-view+json": {
       "model_id": "f0b044a8d72b4f6399a7e331807a9977",
       "version_major": 2,
       "version_minor": 0
      },
      "text/plain": [
       "Drawing 5000 posterior samples:   0%|          | 0/5000 [00:00<?, ?it/s]"
      ]
     },
     "metadata": {},
     "output_type": "display_data"
    },
    {
     "data": {
      "application/vnd.jupyter.widget-view+json": {
       "model_id": "0192913673cb47f5b4eee7c8a951a226",
       "version_major": 2,
       "version_minor": 0
      },
      "text/plain": [
       "Drawing 5000 posterior samples:   0%|          | 0/5000 [00:00<?, ?it/s]"
      ]
     },
     "metadata": {},
     "output_type": "display_data"
    },
    {
     "data": {
      "application/vnd.jupyter.widget-view+json": {
       "model_id": "2d913c6e926949a38bccf4d19388680b",
       "version_major": 2,
       "version_minor": 0
      },
      "text/plain": [
       "Drawing 5000 posterior samples:   0%|          | 0/5000 [00:00<?, ?it/s]"
      ]
     },
     "metadata": {},
     "output_type": "display_data"
    },
    {
     "data": {
      "application/vnd.jupyter.widget-view+json": {
       "model_id": "e90e3f278e9346fabeceba832a8a9cf9",
       "version_major": 2,
       "version_minor": 0
      },
      "text/plain": [
       "Drawing 5000 posterior samples:   0%|          | 0/5000 [00:00<?, ?it/s]"
      ]
     },
     "metadata": {},
     "output_type": "display_data"
    },
    {
     "data": {
      "application/vnd.jupyter.widget-view+json": {
       "model_id": "672fe6a0b1874b37ac3b6a91b4b1a4f9",
       "version_major": 2,
       "version_minor": 0
      },
      "text/plain": [
       "Drawing 5000 posterior samples:   0%|          | 0/5000 [00:00<?, ?it/s]"
      ]
     },
     "metadata": {},
     "output_type": "display_data"
    },
    {
     "data": {
      "application/vnd.jupyter.widget-view+json": {
       "model_id": "4e1387c4269a4465aa0ef8034b8abff8",
       "version_major": 2,
       "version_minor": 0
      },
      "text/plain": [
       "Drawing 5000 posterior samples:   0%|          | 0/5000 [00:00<?, ?it/s]"
      ]
     },
     "metadata": {},
     "output_type": "display_data"
    },
    {
     "data": {
      "application/vnd.jupyter.widget-view+json": {
       "model_id": "1df04a606eec4841ae909d13e4face1d",
       "version_major": 2,
       "version_minor": 0
      },
      "text/plain": [
       "Drawing 5000 posterior samples:   0%|          | 0/5000 [00:00<?, ?it/s]"
      ]
     },
     "metadata": {},
     "output_type": "display_data"
    },
    {
     "data": {
      "application/vnd.jupyter.widget-view+json": {
       "model_id": "a3d8003012d542478530417e413439f0",
       "version_major": 2,
       "version_minor": 0
      },
      "text/plain": [
       "Drawing 5000 posterior samples:   0%|          | 0/5000 [00:00<?, ?it/s]"
      ]
     },
     "metadata": {},
     "output_type": "display_data"
    },
    {
     "data": {
      "application/vnd.jupyter.widget-view+json": {
       "model_id": "c1030eb59d144956bab8fb6f5d5c7677",
       "version_major": 2,
       "version_minor": 0
      },
      "text/plain": [
       "Drawing 5000 posterior samples:   0%|          | 0/5000 [00:00<?, ?it/s]"
      ]
     },
     "metadata": {},
     "output_type": "display_data"
    },
    {
     "data": {
      "application/vnd.jupyter.widget-view+json": {
       "model_id": "fd531983098e4d0f9b932181d02d4f9b",
       "version_major": 2,
       "version_minor": 0
      },
      "text/plain": [
       "Drawing 5000 posterior samples:   0%|          | 0/5000 [00:00<?, ?it/s]"
      ]
     },
     "metadata": {},
     "output_type": "display_data"
    },
    {
     "data": {
      "application/vnd.jupyter.widget-view+json": {
       "model_id": "00518ab758494dca8e438103f9b83ee1",
       "version_major": 2,
       "version_minor": 0
      },
      "text/plain": [
       "Drawing 5000 posterior samples:   0%|          | 0/5000 [00:00<?, ?it/s]"
      ]
     },
     "metadata": {},
     "output_type": "display_data"
    },
    {
     "data": {
      "application/vnd.jupyter.widget-view+json": {
       "model_id": "47f0f24c9ca84a0cbe4725af450722b2",
       "version_major": 2,
       "version_minor": 0
      },
      "text/plain": [
       "Drawing 5000 posterior samples:   0%|          | 0/5000 [00:00<?, ?it/s]"
      ]
     },
     "metadata": {},
     "output_type": "display_data"
    },
    {
     "data": {
      "application/vnd.jupyter.widget-view+json": {
       "model_id": "8f127958f1a54a40aed28b3d0ffdde5a",
       "version_major": 2,
       "version_minor": 0
      },
      "text/plain": [
       "Drawing 5000 posterior samples:   0%|          | 0/5000 [00:00<?, ?it/s]"
      ]
     },
     "metadata": {},
     "output_type": "display_data"
    },
    {
     "data": {
      "application/vnd.jupyter.widget-view+json": {
       "model_id": "614c45f5ac4b45a08826cfe54effb778",
       "version_major": 2,
       "version_minor": 0
      },
      "text/plain": [
       "Drawing 5000 posterior samples:   0%|          | 0/5000 [00:00<?, ?it/s]"
      ]
     },
     "metadata": {},
     "output_type": "display_data"
    },
    {
     "data": {
      "application/vnd.jupyter.widget-view+json": {
       "model_id": "81b69e456c064d78800112d7ca824feb",
       "version_major": 2,
       "version_minor": 0
      },
      "text/plain": [
       "Drawing 5000 posterior samples:   0%|          | 0/5000 [00:00<?, ?it/s]"
      ]
     },
     "metadata": {},
     "output_type": "display_data"
    },
    {
     "data": {
      "application/vnd.jupyter.widget-view+json": {
       "model_id": "c98ab7f4e37b478f8ee0ccc2b4208e6f",
       "version_major": 2,
       "version_minor": 0
      },
      "text/plain": [
       "Drawing 5000 posterior samples:   0%|          | 0/5000 [00:00<?, ?it/s]"
      ]
     },
     "metadata": {},
     "output_type": "display_data"
    },
    {
     "data": {
      "application/vnd.jupyter.widget-view+json": {
       "model_id": "789f9e6689e44da9819d91058ab183e8",
       "version_major": 2,
       "version_minor": 0
      },
      "text/plain": [
       "Drawing 5000 posterior samples:   0%|          | 0/5000 [00:00<?, ?it/s]"
      ]
     },
     "metadata": {},
     "output_type": "display_data"
    },
    {
     "data": {
      "application/vnd.jupyter.widget-view+json": {
       "model_id": "98dd71474664414fb235872ae9604c9b",
       "version_major": 2,
       "version_minor": 0
      },
      "text/plain": [
       "Drawing 5000 posterior samples:   0%|          | 0/5000 [00:00<?, ?it/s]"
      ]
     },
     "metadata": {},
     "output_type": "display_data"
    },
    {
     "data": {
      "application/vnd.jupyter.widget-view+json": {
       "model_id": "e73d1426858249739b4c18b23431b534",
       "version_major": 2,
       "version_minor": 0
      },
      "text/plain": [
       "Drawing 5000 posterior samples:   0%|          | 0/5000 [00:00<?, ?it/s]"
      ]
     },
     "metadata": {},
     "output_type": "display_data"
    },
    {
     "data": {
      "application/vnd.jupyter.widget-view+json": {
       "model_id": "58332c1e33174d30aba01f79c37ff9ec",
       "version_major": 2,
       "version_minor": 0
      },
      "text/plain": [
       "Drawing 5000 posterior samples:   0%|          | 0/5000 [00:00<?, ?it/s]"
      ]
     },
     "metadata": {},
     "output_type": "display_data"
    },
    {
     "data": {
      "application/vnd.jupyter.widget-view+json": {
       "model_id": "08e6b11dc23d4c39bb8e389f6bcbd3fe",
       "version_major": 2,
       "version_minor": 0
      },
      "text/plain": [
       "Drawing 5000 posterior samples:   0%|          | 0/5000 [00:00<?, ?it/s]"
      ]
     },
     "metadata": {},
     "output_type": "display_data"
    },
    {
     "data": {
      "application/vnd.jupyter.widget-view+json": {
       "model_id": "e95aef96530d4fb990bc705ebdca3f8d",
       "version_major": 2,
       "version_minor": 0
      },
      "text/plain": [
       "Drawing 5000 posterior samples:   0%|          | 0/5000 [00:00<?, ?it/s]"
      ]
     },
     "metadata": {},
     "output_type": "display_data"
    }
   ],
   "source": [
    "tpcf_samples, true_values = get_pred_and_true(tpcf_loader, tpcf_posterior)\n",
    "ds_samples, _ = get_pred_and_true(ds_loader, ds_posterior)"
   ]
  },
  {
   "cell_type": "markdown",
   "metadata": {},
   "source": []
  },
  {
   "cell_type": "code",
   "execution_count": 40,
   "metadata": {},
   "outputs": [
    {
     "data": {
      "image/png": "[encoded data removed]",
      "text/plain": [
       "<Figure size 450x450 with 9 Axes>"
      ]
     },
     "metadata": {},
     "output_type": "display_data"
    },
    {
     "data": {
      "image/png": "[encoded data removed]",
      "text/plain": [
       "<Figure size 450x450 with 9 Axes>"
      ]
     },
     "metadata": {},
     "output_type": "display_data"
    },
    {
     "data": {
      "image/png": "[encoded data removed]",
      "text/plain": [
       "<Figure size 450x450 with 9 Axes>"
      ]
     },
     "metadata": {},
     "output_type": "display_data"
    },
    {
     "data": {
      "image/png": "[encoded data removed]",
      "text/plain": [
       "<Figure size 450x450 with 9 Axes>"
      ]
     },
     "metadata": {},
     "output_type": "display_data"
    },
    {
     "data": {
      "image/png": "[encoded data removed]",
      "text/plain": [
       "<Figure size 450x450 with 9 Axes>"
      ]
     },
     "metadata": {},
     "output_type": "display_data"
    },
    {
     "data": {
      "image/png": "[encoded data removed]",
      "text/plain": [
       "<Figure size 450x450 with 9 Axes>"
      ]
     },
     "metadata": {},
     "output_type": "display_data"
    },
    {
     "data": {
      "image/png": "[encoded data removed]",
      "text/plain": [
       "<Figure size 450x450 with 9 Axes>"
      ]
     },
     "metadata": {},
     "output_type": "display_data"
    },
    {
     "data": {
      "image/png": "[encoded data removed]",
      "text/plain": [
       "<Figure size 450x450 with 9 Axes>"
      ]
     },
     "metadata": {},
     "output_type": "display_data"
    },
    {
     "data": {
      "image/png": "[encoded data removed]",
      "text/plain": [
       "<Figure size 450x450 with 9 Axes>"
      ]
     },
     "metadata": {},
     "output_type": "display_data"
    },
    {
     "data": {
      "image/png": "[encoded data removed]",
      "text/plain": [
       "<Figure size 450x450 with 9 Axes>"
      ]
     },
     "metadata": {},
     "output_type": "display_data"
    }
   ],
   "source": [
    "for idx_plot in range(0,200,20):\n",
    "    c = ChainConsumer()\n",
    "    c.add_chain(tpcf_samples[idx_plot], parameters=labels, name='2PCF')\n",
    "    c.add_chain(ds_samples[idx_plot], parameters=labels, name='DS')\n",
    "    c.configure(bins=10)\n",
    "    fig = c.plotter.plot(truth=true_values[idx_plot].numpy())"
   ]
  }
 ],
 "metadata": {
  "kernelspec": {
   "display_name": "Python 3.10.4 ('geometric')",
   "language": "python",
   "name": "python3"
  },
  "language_info": {
   "codemirror_mode": {
    "name": "ipython",
    "version": 3
   },
   "file_extension": ".py",
   "mimetype": "text/x-python",
   "name": "python",
   "nbconvert_exporter": "python",
   "pygments_lexer": "ipython3",
   "version": "3.10.4"
  },
  "orig_nbformat": 4,
  "vscode": {
   "interpreter": {
    "hash": "781d74f9552a8d6c98aaf32e55f8eee3dd4c99712ec10815cabded57f6dc2d86"
   }
  }
 },
 "nbformat": 4,
 "nbformat_minor": 2
}
